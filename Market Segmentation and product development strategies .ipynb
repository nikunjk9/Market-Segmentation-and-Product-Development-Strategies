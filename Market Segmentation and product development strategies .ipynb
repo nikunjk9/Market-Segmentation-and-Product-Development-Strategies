{
 "cells": [
  {
   "cell_type": "markdown",
   "id": "5069389b-f9f5-4f3a-907d-97dd9133f6dd",
   "metadata": {},
   "source": [
    "# **MARKET SEGMENTATION AND PRODUCT DEVELOPMENT STRATEGIES**\n",
    "----------------------------------------------------------------- \n",
    "\n"
   ]
  },
  {
   "cell_type": "markdown",
   "id": "c403fa5e-4c25-4af0-8a7e-c396557bc239",
   "metadata": {},
   "source": [
    "The research topic is \"Market Segmentation and Product Development Strategies.\" This research addresses a important component of modern business strategy, especially in the rapidly growing e-commerce sector. One way for online retailers to gain competitive advantage, increase customer satisfaction and drive profitability is by understanding how to efficiently segment markets and develop products that suit particular groups of customers. This implies that businesses must understand who their customers are exactly before designing a product or service for them. Furthermore, as big data and advanced analytics continue to rise, there are new opportunities for using customer data in making more informed decisions about markets. The aim of this research is bridging the gap between market segmentation insights and practical product development strategies that ultimately lead to better business outcomes. \n",
    "<br>\n",
    "<br>\n"
   ]
  },
  {
   "cell_type": "markdown",
   "id": "db860b2e-db7d-49e5-bbb8-dc3cc3c6297c",
   "metadata": {},
   "source": [
    "# **1.0 Introduction**\n",
    "-------------------------\n"
   ]
  },
  {
   "cell_type": "markdown",
   "id": "3361b7be-eff8-4493-8923-fa22603de11b",
   "metadata": {},
   "source": [
    "In this notebook, we utilize the publicly available Online Retail dataset to explore customer segmentation and provide product development strategies based on the customer data.\n",
    "\n",
    "### 1.1 Dataset Introduction\n",
    "\n",
    "The <a href=\"https://www.kaggle.com/datasets/puneetbhaya/online-retail\"> Online Retail </a>  a transnational data set which contains all the transactions occurring between `01/12/2010` and `09/12/2011` for a UK-based and registered non-store online retail.The company mainly sells unique all-occasion gifts. Many customers of the company are wholesalers.\n",
    "\n",
    "**Additional variable information**\n",
    "\n",
    "1. **InvoiceNo:** A unique identifier for the invoice. An invoice number shared across rows means that those transactions were performed in a single invoice (multiple purchases). \n",
    "2. **StockCode:** Identifier for items contained in an invoice.<br>\n",
    "3. **Description:** Textual description of each of the stock item.<br>\n",
    "4. **Quantity:** The quantity of the item purchased.<br>\n",
    "5. **InvoiceDate:** Date of purchase.<br>\n",
    "6. **UnitPrice:** Value of each item.<br>\n",
    "7. **CustomerID:** Identifier for customer making the purchase.<br>\n",
    "8. **Country:** Country of customer.<br>\n",
    "\n",
    "<br>"
   ]
  },
  {
   "cell_type": "markdown",
   "id": "791ccb6d-3c34-4497-958c-c11dcf8d94d2",
   "metadata": {},
   "source": [
    "## 1.2 Import Libraries\n",
    "-----------------------"
   ]
  },
  {
   "cell_type": "markdown",
   "id": "1c8e39d5-60da-477d-b096-8c70d2e05715",
   "metadata": {},
   "source": [
    "Import all the necessary libraries required for the analysis of customer data"
   ]
  },
  {
   "cell_type": "code",
   "execution_count": 1,
   "id": "997ed833-6f21-4b60-8198-619bcbcc6364",
   "metadata": {},
   "outputs": [],
   "source": [
    "import pandas as pd\n",
    "import numpy as np\n",
    "from matplotlib import pyplot as plt\n",
    "import seaborn as sns\n",
    "import re\n",
    "import warnings\n",
    "warnings.filterwarnings('ignore')\n",
    "warnings.simplefilter('ignore')\n"
   ]
  },
  {
   "cell_type": "markdown",
   "id": "84c6490e-a73e-46f5-8e0f-645fa9e880d1",
   "metadata": {},
   "source": [
    "\n",
    "## 1.3 Import Dataset\n",
    "-----------------------"
   ]
  },
  {
   "cell_type": "markdown",
   "id": "fda56cc8-ddac-42e2-bf81-a6373851709d",
   "metadata": {},
   "source": [
    "Importing the Online Retail dataset from an Excel file into a pandas **DataFrame**. This will allow us to easily **manipulate** and analyze the data using Python's powerful data analysis libraries.\n",
    "<br>\n",
    "<br>"
   ]
  },
  {
   "cell_type": "code",
   "execution_count": 2,
   "id": "3864a706-e6b0-496d-a30d-33fc39d0a78f",
   "metadata": {},
   "outputs": [
    {
     "data": {
      "text/html": [
       "<div>\n",
       "<style scoped>\n",
       "    .dataframe tbody tr th:only-of-type {\n",
       "        vertical-align: middle;\n",
       "    }\n",
       "\n",
       "    .dataframe tbody tr th {\n",
       "        vertical-align: top;\n",
       "    }\n",
       "\n",
       "    .dataframe thead th {\n",
       "        text-align: right;\n",
       "    }\n",
       "</style>\n",
       "<table border=\"1\" class=\"dataframe\">\n",
       "  <thead>\n",
       "    <tr style=\"text-align: right;\">\n",
       "      <th></th>\n",
       "      <th>InvoiceNo</th>\n",
       "      <th>StockCode</th>\n",
       "      <th>Description</th>\n",
       "      <th>Quantity</th>\n",
       "      <th>InvoiceDate</th>\n",
       "      <th>UnitPrice</th>\n",
       "      <th>CustomerID</th>\n",
       "      <th>Country</th>\n",
       "    </tr>\n",
       "  </thead>\n",
       "  <tbody>\n",
       "    <tr>\n",
       "      <th>0</th>\n",
       "      <td>536365</td>\n",
       "      <td>85123A</td>\n",
       "      <td>WHITE HANGING HEART T-LIGHT HOLDER</td>\n",
       "      <td>6</td>\n",
       "      <td>2010-12-01 08:26:00</td>\n",
       "      <td>2.55</td>\n",
       "      <td>17850.0</td>\n",
       "      <td>United Kingdom</td>\n",
       "    </tr>\n",
       "    <tr>\n",
       "      <th>1</th>\n",
       "      <td>536365</td>\n",
       "      <td>71053</td>\n",
       "      <td>WHITE METAL LANTERN</td>\n",
       "      <td>6</td>\n",
       "      <td>2010-12-01 08:26:00</td>\n",
       "      <td>3.39</td>\n",
       "      <td>17850.0</td>\n",
       "      <td>United Kingdom</td>\n",
       "    </tr>\n",
       "    <tr>\n",
       "      <th>2</th>\n",
       "      <td>536365</td>\n",
       "      <td>84406B</td>\n",
       "      <td>CREAM CUPID HEARTS COAT HANGER</td>\n",
       "      <td>8</td>\n",
       "      <td>2010-12-01 08:26:00</td>\n",
       "      <td>2.75</td>\n",
       "      <td>17850.0</td>\n",
       "      <td>United Kingdom</td>\n",
       "    </tr>\n",
       "    <tr>\n",
       "      <th>3</th>\n",
       "      <td>536365</td>\n",
       "      <td>84029G</td>\n",
       "      <td>KNITTED UNION FLAG HOT WATER BOTTLE</td>\n",
       "      <td>6</td>\n",
       "      <td>2010-12-01 08:26:00</td>\n",
       "      <td>3.39</td>\n",
       "      <td>17850.0</td>\n",
       "      <td>United Kingdom</td>\n",
       "    </tr>\n",
       "    <tr>\n",
       "      <th>4</th>\n",
       "      <td>536365</td>\n",
       "      <td>84029E</td>\n",
       "      <td>RED WOOLLY HOTTIE WHITE HEART.</td>\n",
       "      <td>6</td>\n",
       "      <td>2010-12-01 08:26:00</td>\n",
       "      <td>3.39</td>\n",
       "      <td>17850.0</td>\n",
       "      <td>United Kingdom</td>\n",
       "    </tr>\n",
       "  </tbody>\n",
       "</table>\n",
       "</div>"
      ],
      "text/plain": [
       "  InvoiceNo StockCode                          Description  Quantity  \\\n",
       "0    536365    85123A   WHITE HANGING HEART T-LIGHT HOLDER         6   \n",
       "1    536365     71053                  WHITE METAL LANTERN         6   \n",
       "2    536365    84406B       CREAM CUPID HEARTS COAT HANGER         8   \n",
       "3    536365    84029G  KNITTED UNION FLAG HOT WATER BOTTLE         6   \n",
       "4    536365    84029E       RED WOOLLY HOTTIE WHITE HEART.         6   \n",
       "\n",
       "          InvoiceDate  UnitPrice  CustomerID         Country  \n",
       "0 2010-12-01 08:26:00       2.55     17850.0  United Kingdom  \n",
       "1 2010-12-01 08:26:00       3.39     17850.0  United Kingdom  \n",
       "2 2010-12-01 08:26:00       2.75     17850.0  United Kingdom  \n",
       "3 2010-12-01 08:26:00       3.39     17850.0  United Kingdom  \n",
       "4 2010-12-01 08:26:00       3.39     17850.0  United Kingdom  "
      ]
     },
     "execution_count": 2,
     "metadata": {},
     "output_type": "execute_result"
    }
   ],
   "source": [
    "df = pd.read_excel('Online Retail.xlsx')\n",
    "df.head()"
   ]
  },
  {
   "cell_type": "markdown",
   "id": "2104be52-20d4-46bc-8ed8-bc2f59515ba7",
   "metadata": {},
   "source": [
    "<br>\n",
    "\n",
    "It's important to understand the overall size of the dataset, including the number of rows (transactions) and columns (attributes)."
   ]
  },
  {
   "cell_type": "code",
   "execution_count": 3,
   "id": "ececced7-815e-4c5b-a213-aff564224a6c",
   "metadata": {},
   "outputs": [
    {
     "data": {
      "text/plain": [
       "(541909, 8)"
      ]
     },
     "execution_count": 3,
     "metadata": {},
     "output_type": "execute_result"
    }
   ],
   "source": [
    "df.shape"
   ]
  },
  {
   "cell_type": "markdown",
   "id": "b3d94b59-6cdf-42f8-bdf1-7b3a4aa46b9b",
   "metadata": {},
   "source": [
    "# **2.0 Cleansing Dataset**\n",
    "-----------------------------"
   ]
  },
  {
   "cell_type": "markdown",
   "id": "1f909912-97cb-4c3d-8f25-52db255912ee",
   "metadata": {},
   "source": [
    "Before proceeding with any analysis, it's essential to check for **missing values** in the dataset. Missing values can affect the quality of analysis, so we need to identify and address them appropriately (e.g., by removing or imputing the missing data)."
   ]
  },
  {
   "cell_type": "code",
   "execution_count": 4,
   "id": "ecb2e914-bdd6-48dc-8392-5434d854c72a",
   "metadata": {},
   "outputs": [
    {
     "data": {
      "text/plain": [
       "InvoiceNo           0\n",
       "StockCode           0\n",
       "Description      1454\n",
       "Quantity            0\n",
       "InvoiceDate         0\n",
       "UnitPrice           0\n",
       "CustomerID     135080\n",
       "Country             0\n",
       "dtype: int64"
      ]
     },
     "execution_count": 4,
     "metadata": {},
     "output_type": "execute_result"
    }
   ],
   "source": [
    "df.isna().sum()"
   ]
  },
  {
   "cell_type": "code",
   "execution_count": 5,
   "id": "34b30535-b3e4-4a61-b343-99db477e64ac",
   "metadata": {},
   "outputs": [
    {
     "data": {
      "text/plain": [
       "(406829, 8)"
      ]
     },
     "execution_count": 5,
     "metadata": {},
     "output_type": "execute_result"
    }
   ],
   "source": [
    "# Dropping rows with missing values\r\n",
    "df = df.dropna()\r\n",
    "\r\n",
    "# Checking the new dimensions of the dataset\r\n",
    "df.shape\r\n"
   ]
  },
  {
   "cell_type": "markdown",
   "id": "40dc4aac-5f35-4c74-b0e6-2fdbbf83aa77",
   "metadata": {},
   "source": [
    "<br>\n",
    "\n",
    "It's important to verify the **data types** of each column in the dataset to ensure they are correctly formatted for analysis. This step helps identify if any columns need to be converted (e.g., dates, numerical values) before further processing."
   ]
  },
  {
   "cell_type": "code",
   "execution_count": 6,
   "id": "1614c739-e319-48e0-b290-a2f7844e0692",
   "metadata": {},
   "outputs": [
    {
     "data": {
      "text/plain": [
       "InvoiceNo              object\n",
       "StockCode              object\n",
       "Description            object\n",
       "Quantity                int64\n",
       "InvoiceDate    datetime64[ns]\n",
       "UnitPrice             float64\n",
       "CustomerID            float64\n",
       "Country                object\n",
       "dtype: object"
      ]
     },
     "execution_count": 6,
     "metadata": {},
     "output_type": "execute_result"
    }
   ],
   "source": [
    "df.dtypes"
   ]
  },
  {
   "cell_type": "markdown",
   "id": "01707624-4606-45f0-b074-2c73696c7de4",
   "metadata": {},
   "source": [
    "<br>\n",
    "Re-checking for missing values in the dataset"
   ]
  },
  {
   "cell_type": "code",
   "execution_count": 7,
   "id": "e0563d0f-3635-4f03-abbc-becac1692c6f",
   "metadata": {},
   "outputs": [
    {
     "data": {
      "text/plain": [
       "InvoiceNo      0\n",
       "StockCode      0\n",
       "Description    0\n",
       "Quantity       0\n",
       "InvoiceDate    0\n",
       "UnitPrice      0\n",
       "CustomerID     0\n",
       "Country        0\n",
       "dtype: int64"
      ]
     },
     "execution_count": 7,
     "metadata": {},
     "output_type": "execute_result"
    }
   ],
   "source": [
    "df.isna().sum()"
   ]
  },
  {
   "cell_type": "markdown",
   "id": "9a888c80-7c1c-45a2-8ea5-00d8fd00d47d",
   "metadata": {},
   "source": [
    "\n",
    "\n",
    "## 2.1 Cleaning String Data and Data Types\n",
    "-------------------------------------------"
   ]
  },
  {
   "cell_type": "markdown",
   "id": "4ff0c915-e596-4714-8cf7-606e27778cf3",
   "metadata": {},
   "source": [
    "In this step, we perform several data cleaning tasks to standardize and format the dataset appropriately. These tasks include:\n",
    "\n",
    "1. **Cleaning Text Data:** The `Description` column is cleaned by removing periods, converting text to uppercase, and trimming any extra spaces.\n",
    "2. **Converting Data Types:** We ensure that columns such as `InvoiceNo` and `CustomerID` are treated as strings for consistency and proper analysis.\n",
    "   \n",
    "<br>"
   ]
  },
  {
   "cell_type": "code",
   "execution_count": 8,
   "id": "34c6923e-6cc2-4eeb-8349-65b4546aa77c",
   "metadata": {},
   "outputs": [
    {
     "data": {
      "text/plain": [
       "InvoiceNo      string[python]\n",
       "StockCode              object\n",
       "Description            object\n",
       "Quantity                int64\n",
       "InvoiceDate    datetime64[ns]\n",
       "UnitPrice             float64\n",
       "CustomerID     string[python]\n",
       "Country                object\n",
       "dtype: object"
      ]
     },
     "execution_count": 8,
     "metadata": {},
     "output_type": "execute_result"
    }
   ],
   "source": [
    "df['Description'] = df['Description'].str.replace('.','').str.upper().str.strip()\n",
    "df['Description'] = df['Description'].replace(r\"\\s+\",' ', regex = True)\n",
    "df['InvoiceNo'] = df['InvoiceNo'].astype('string')\n",
    "df['CustomerID'] = df['CustomerID'].astype('string')\n",
    "df.dtypes"
   ]
  },
  {
   "cell_type": "markdown",
   "id": "1d4e093d-d55e-4155-bc98-e0855e39d6b3",
   "metadata": {},
   "source": [
    "<br>\n",
    "After performing data cleaning and type conversions, It’s important to review the first few rows of the DataFrame to ensure that the cleaning operations were applied correctly."
   ]
  },
  {
   "cell_type": "code",
   "execution_count": 9,
   "id": "d22474f4-9393-4a81-8b58-f8a9dded25c6",
   "metadata": {},
   "outputs": [
    {
     "data": {
      "text/html": [
       "<div>\n",
       "<style scoped>\n",
       "    .dataframe tbody tr th:only-of-type {\n",
       "        vertical-align: middle;\n",
       "    }\n",
       "\n",
       "    .dataframe tbody tr th {\n",
       "        vertical-align: top;\n",
       "    }\n",
       "\n",
       "    .dataframe thead th {\n",
       "        text-align: right;\n",
       "    }\n",
       "</style>\n",
       "<table border=\"1\" class=\"dataframe\">\n",
       "  <thead>\n",
       "    <tr style=\"text-align: right;\">\n",
       "      <th></th>\n",
       "      <th>InvoiceNo</th>\n",
       "      <th>StockCode</th>\n",
       "      <th>Description</th>\n",
       "      <th>Quantity</th>\n",
       "      <th>InvoiceDate</th>\n",
       "      <th>UnitPrice</th>\n",
       "      <th>CustomerID</th>\n",
       "      <th>Country</th>\n",
       "    </tr>\n",
       "  </thead>\n",
       "  <tbody>\n",
       "    <tr>\n",
       "      <th>0</th>\n",
       "      <td>536365</td>\n",
       "      <td>85123A</td>\n",
       "      <td>WHITE HANGING HEART T-LIGHT HOLDER</td>\n",
       "      <td>6</td>\n",
       "      <td>2010-12-01 08:26:00</td>\n",
       "      <td>2.55</td>\n",
       "      <td>17850.0</td>\n",
       "      <td>United Kingdom</td>\n",
       "    </tr>\n",
       "    <tr>\n",
       "      <th>1</th>\n",
       "      <td>536365</td>\n",
       "      <td>71053</td>\n",
       "      <td>WHITE METAL LANTERN</td>\n",
       "      <td>6</td>\n",
       "      <td>2010-12-01 08:26:00</td>\n",
       "      <td>3.39</td>\n",
       "      <td>17850.0</td>\n",
       "      <td>United Kingdom</td>\n",
       "    </tr>\n",
       "    <tr>\n",
       "      <th>2</th>\n",
       "      <td>536365</td>\n",
       "      <td>84406B</td>\n",
       "      <td>CREAM CUPID HEARTS COAT HANGER</td>\n",
       "      <td>8</td>\n",
       "      <td>2010-12-01 08:26:00</td>\n",
       "      <td>2.75</td>\n",
       "      <td>17850.0</td>\n",
       "      <td>United Kingdom</td>\n",
       "    </tr>\n",
       "    <tr>\n",
       "      <th>3</th>\n",
       "      <td>536365</td>\n",
       "      <td>84029G</td>\n",
       "      <td>KNITTED UNION FLAG HOT WATER BOTTLE</td>\n",
       "      <td>6</td>\n",
       "      <td>2010-12-01 08:26:00</td>\n",
       "      <td>3.39</td>\n",
       "      <td>17850.0</td>\n",
       "      <td>United Kingdom</td>\n",
       "    </tr>\n",
       "    <tr>\n",
       "      <th>4</th>\n",
       "      <td>536365</td>\n",
       "      <td>84029E</td>\n",
       "      <td>RED WOOLLY HOTTIE WHITE HEART</td>\n",
       "      <td>6</td>\n",
       "      <td>2010-12-01 08:26:00</td>\n",
       "      <td>3.39</td>\n",
       "      <td>17850.0</td>\n",
       "      <td>United Kingdom</td>\n",
       "    </tr>\n",
       "  </tbody>\n",
       "</table>\n",
       "</div>"
      ],
      "text/plain": [
       "  InvoiceNo StockCode                          Description  Quantity  \\\n",
       "0    536365    85123A   WHITE HANGING HEART T-LIGHT HOLDER         6   \n",
       "1    536365     71053                  WHITE METAL LANTERN         6   \n",
       "2    536365    84406B       CREAM CUPID HEARTS COAT HANGER         8   \n",
       "3    536365    84029G  KNITTED UNION FLAG HOT WATER BOTTLE         6   \n",
       "4    536365    84029E        RED WOOLLY HOTTIE WHITE HEART         6   \n",
       "\n",
       "          InvoiceDate  UnitPrice CustomerID         Country  \n",
       "0 2010-12-01 08:26:00       2.55    17850.0  United Kingdom  \n",
       "1 2010-12-01 08:26:00       3.39    17850.0  United Kingdom  \n",
       "2 2010-12-01 08:26:00       2.75    17850.0  United Kingdom  \n",
       "3 2010-12-01 08:26:00       3.39    17850.0  United Kingdom  \n",
       "4 2010-12-01 08:26:00       3.39    17850.0  United Kingdom  "
      ]
     },
     "execution_count": 9,
     "metadata": {},
     "output_type": "execute_result"
    }
   ],
   "source": [
    "df.head()"
   ]
  },
  {
   "cell_type": "markdown",
   "id": "9aafeaa5-a09c-44c6-9ad0-568389beec1b",
   "metadata": {},
   "source": [
    "## 2.2 Addressing negative prices & quantities\n",
    "-------------------------------------------------"
   ]
  },
  {
   "cell_type": "markdown",
   "id": "2b85e095-db09-419e-89cc-deead4fae44d",
   "metadata": {},
   "source": [
    "0.6% of the data set has negative price points while 2% has negative recorded quantities.\n",
    "\n",
    "**More precisely:**\n",
    "\n",
    "1. 99% of Invoices that are cancelled have negative Quantity rows. This perhaps represents returns, etc.\n",
    "<br>\n",
    "2. 85% of transactions with negative quantities are cancelled invoices. We'll need to do further digging on what these other transactions represent.\n",
    "   <br>"
   ]
  },
  {
   "cell_type": "code",
   "execution_count": 10,
   "id": "2a34c8d5-60db-4d02-8076-3c03f4774558",
   "metadata": {},
   "outputs": [
    {
     "data": {
      "text/html": [
       "<div>\n",
       "<style scoped>\n",
       "    .dataframe tbody tr th:only-of-type {\n",
       "        vertical-align: middle;\n",
       "    }\n",
       "\n",
       "    .dataframe tbody tr th {\n",
       "        vertical-align: top;\n",
       "    }\n",
       "\n",
       "    .dataframe thead th {\n",
       "        text-align: right;\n",
       "    }\n",
       "</style>\n",
       "<table border=\"1\" class=\"dataframe\">\n",
       "  <thead>\n",
       "    <tr style=\"text-align: right;\">\n",
       "      <th></th>\n",
       "      <th>Quantity</th>\n",
       "      <th>InvoiceDate</th>\n",
       "      <th>UnitPrice</th>\n",
       "    </tr>\n",
       "  </thead>\n",
       "  <tbody>\n",
       "    <tr>\n",
       "      <th>count</th>\n",
       "      <td>406829.000000</td>\n",
       "      <td>406829</td>\n",
       "      <td>406829.000000</td>\n",
       "    </tr>\n",
       "    <tr>\n",
       "      <th>mean</th>\n",
       "      <td>12.061303</td>\n",
       "      <td>2011-07-10 16:30:57.879207424</td>\n",
       "      <td>3.460471</td>\n",
       "    </tr>\n",
       "    <tr>\n",
       "      <th>min</th>\n",
       "      <td>-80995.000000</td>\n",
       "      <td>2010-12-01 08:26:00</td>\n",
       "      <td>0.000000</td>\n",
       "    </tr>\n",
       "    <tr>\n",
       "      <th>25%</th>\n",
       "      <td>2.000000</td>\n",
       "      <td>2011-04-06 15:02:00</td>\n",
       "      <td>1.250000</td>\n",
       "    </tr>\n",
       "    <tr>\n",
       "      <th>50%</th>\n",
       "      <td>5.000000</td>\n",
       "      <td>2011-07-31 11:48:00</td>\n",
       "      <td>1.950000</td>\n",
       "    </tr>\n",
       "    <tr>\n",
       "      <th>75%</th>\n",
       "      <td>12.000000</td>\n",
       "      <td>2011-10-20 13:06:00</td>\n",
       "      <td>3.750000</td>\n",
       "    </tr>\n",
       "    <tr>\n",
       "      <th>max</th>\n",
       "      <td>80995.000000</td>\n",
       "      <td>2011-12-09 12:50:00</td>\n",
       "      <td>38970.000000</td>\n",
       "    </tr>\n",
       "    <tr>\n",
       "      <th>std</th>\n",
       "      <td>248.693370</td>\n",
       "      <td>NaN</td>\n",
       "      <td>69.315162</td>\n",
       "    </tr>\n",
       "  </tbody>\n",
       "</table>\n",
       "</div>"
      ],
      "text/plain": [
       "            Quantity                    InvoiceDate      UnitPrice\n",
       "count  406829.000000                         406829  406829.000000\n",
       "mean       12.061303  2011-07-10 16:30:57.879207424       3.460471\n",
       "min    -80995.000000            2010-12-01 08:26:00       0.000000\n",
       "25%         2.000000            2011-04-06 15:02:00       1.250000\n",
       "50%         5.000000            2011-07-31 11:48:00       1.950000\n",
       "75%        12.000000            2011-10-20 13:06:00       3.750000\n",
       "max     80995.000000            2011-12-09 12:50:00   38970.000000\n",
       "std       248.693370                            NaN      69.315162"
      ]
     },
     "execution_count": 10,
     "metadata": {},
     "output_type": "execute_result"
    }
   ],
   "source": [
    "df.describe()"
   ]
  },
  {
   "cell_type": "markdown",
   "id": "0a8e8521-e386-4ef2-967f-021cfb3b7349",
   "metadata": {},
   "source": [
    "This is strange if our dataset contains **high negative values**. If we look carefully, not all of our dataset contain transactions from selling products activities. Some of fees and costs are included in this dataset. This fees and cost are in StockCode that contain only letter or alphabet (including space) values.\n",
    "<br><br>\n"
   ]
  },
  {
   "cell_type": "markdown",
   "id": "f7e576c4-520d-48f7-a3b8-5bc38db7dfcb",
   "metadata": {},
   "source": [
    "#### 2.2.1 Cleaning Data Frame where StockCode contains space"
   ]
  },
  {
   "cell_type": "code",
   "execution_count": 11,
   "id": "f29c03fa-0cce-41f3-8be9-9530c5fe2bac",
   "metadata": {},
   "outputs": [
    {
     "data": {
      "text/plain": [
       "(371020, 8)"
      ]
     },
     "execution_count": 11,
     "metadata": {},
     "output_type": "execute_result"
    }
   ],
   "source": [
    "# Create a new column to identify if StockCode contains only alphabetic characters\n",
    "df['string'] = df.StockCode.str.isalpha()\n",
    "\n",
    "# Filter the dataset to keep rows where StockCode contains only alphabetic characters\n",
    "df = df[df['string'] != False]\n",
    "\n",
    "# Create a new column to identify if StockCode contains spaces\n",
    "df['space'] = df.StockCode.str.contains(' ')\n",
    "\n",
    "# Filter the dataset to keep rows where StockCode contains spaces\n",
    "df = df[df['space'] != False]\n",
    "\n",
    "# Drop the auxiliary columns used for filtering\n",
    "df = df.drop(columns=['string', 'space'])\n",
    "\n",
    "# Display the dimensions of the cleaned DataFrame\n",
    "df.shape\n"
   ]
  },
  {
   "cell_type": "markdown",
   "id": "95a4b415-e7b5-4d2f-a932-80ecbdff7f12",
   "metadata": {},
   "source": [
    "Next we have to filtering out canceled transaction. In the description of dataset, it is written that there are some canceled transactions presented in dataset. Canceled transactions is indicated by invoice number which starts with letter 'C'."
   ]
  },
  {
   "cell_type": "code",
   "execution_count": 12,
   "id": "eefa9ad2-069d-4a1b-932c-dcfa70dcbf8f",
   "metadata": {},
   "outputs": [
    {
     "data": {
      "text/plain": [
       "(363119, 8)"
      ]
     },
     "execution_count": 12,
     "metadata": {},
     "output_type": "execute_result"
    }
   ],
   "source": [
    "df = df[~df.InvoiceNo.str.contains('C')]\n",
    "df.shape\n",
    "     "
   ]
  },
  {
   "cell_type": "markdown",
   "id": "2410bf4b-573e-4ea8-b520-dd23ff96e5ab",
   "metadata": {},
   "source": [
    "Now, it is time to remove duplicate data."
   ]
  },
  {
   "cell_type": "code",
   "execution_count": 13,
   "id": "623a7eb0-2465-4434-a0f3-cb416183da3b",
   "metadata": {},
   "outputs": [
    {
     "data": {
      "text/plain": [
       "(358309, 8)"
      ]
     },
     "execution_count": 13,
     "metadata": {},
     "output_type": "execute_result"
    }
   ],
   "source": [
    "df.drop_duplicates(inplace = True)\n",
    "df.shape"
   ]
  },
  {
   "cell_type": "markdown",
   "id": "e5729450-735e-4533-8992-6889a4073695",
   "metadata": {},
   "source": [
    "## 2.3 Handling Outliers Using IQR Method\n",
    "-------------------------------------------"
   ]
  },
  {
   "cell_type": "markdown",
   "id": "ab5b1dc7-d76b-46a0-a2be-c809a5acc73c",
   "metadata": {},
   "source": [
    "Outliers can significantly impact statistical analyses and model performance. The **Interquartile Range (IQR)** method is a widely used approach for detecting and removing outliers. In this step, we will use the IQR method to identify and exclude outliers in the UnitPrice column of the dataset.\n"
   ]
  },
  {
   "cell_type": "code",
   "execution_count": 14,
   "id": "f2a38d85-72aa-4ec7-af98-e7ac8d3667ed",
   "metadata": {},
   "outputs": [
    {
     "name": "stdout",
     "output_type": "stream",
     "text": [
      "Original DataFrame shape: (358309, 8)\n",
      "Cleaned DataFrame shape: (326249, 8)\n"
     ]
    }
   ],
   "source": [
    "# Finding the IQR (Interquartile Range) for UnitPrice\n",
    "percentile25 = df['UnitPrice'].quantile(0.25)\n",
    "percentile75 = df['UnitPrice'].quantile(0.75)\n",
    "iqr = percentile75 - percentile25\n",
    "\n",
    "# Calculating the upper and lower limits for outlier detection\n",
    "upper_limit = percentile75 + 1.5 * iqr\n",
    "lower_limit = percentile25 - 1.5 * iqr\n",
    "\n",
    "# Removing outliers from UnitPrice\n",
    "new_df = df[(df['UnitPrice'] < upper_limit) & (df['UnitPrice'] > lower_limit)]\n",
    "\n",
    "print(\"Original DataFrame shape:\", df.shape)\n",
    "print(\"Cleaned DataFrame shape:\", new_df.shape)\n"
   ]
  },
  {
   "cell_type": "markdown",
   "id": "c0b6ceea-df0b-474f-a35a-89dcbdc9feae",
   "metadata": {},
   "source": [
    "<br>\n",
    "<br>\n",
    "\n",
    "After removing outliers in the UnitPrice column, it’s important to also address potential outliers in the Quantity column to ensure that the dataset is robust and reliable for analysis. We will use the IQR method to identify and remove outliers in the Quantity column."
   ]
  },
  {
   "cell_type": "code",
   "execution_count": 15,
   "id": "38f128e9-60c6-4064-8cd5-10da1e9dbc87",
   "metadata": {},
   "outputs": [
    {
     "name": "stdout",
     "output_type": "stream",
     "text": [
      "Cleaned DataFrame shape after Quantity outlier removal: (303169, 8)\n"
     ]
    }
   ],
   "source": [
    "# Finding the IQR (Interquartile Range) for Quantity\n",
    "percentile25 = new_df['Quantity'].quantile(0.25)\n",
    "percentile75 = new_df['Quantity'].quantile(0.75)\n",
    "iqr = percentile75 - percentile25\n",
    "\n",
    "# Calculating the upper and lower limits for outlier detection in Quantity\n",
    "upper_limit = percentile75 + 1.5 * iqr\n",
    "lower_limit = percentile25 - 1.5 * iqr\n",
    "\n",
    "new_df = new_df[(new_df['Quantity'] < upper_limit) & (new_df['Quantity'] > lower_limit)]\n",
    "\n",
    "print(\"Cleaned DataFrame shape after Quantity outlier removal:\", new_df.shape)\n"
   ]
  },
  {
   "cell_type": "markdown",
   "id": "a48209ee-3c85-4596-94d4-0c4bc16bc04b",
   "metadata": {},
   "source": [
    "### 2.3.1 Extracting Date Components from `InvoiceDate` column"
   ]
  },
  {
   "cell_type": "code",
   "execution_count": 16,
   "id": "8105e2c1-b84b-4434-ab91-1ce7bb3b710d",
   "metadata": {},
   "outputs": [],
   "source": [
    "\n",
    "new_df['Date'] = new_df['InvoiceDate'].dt.normalize()               # Extract the date without time\n",
    "new_df['Year'] = new_df['InvoiceDate'].dt.year                      # Extract the year\n",
    "new_df['Month'] = new_df['InvoiceDate'].dt.month_name().str[:3]     # Extract the abbreviated month name\n",
    "new_df['Day'] = new_df['InvoiceDate'].dt.day_name()                 # Extract the day of the week\n",
    "new_df['Hour'] = new_df['InvoiceDate'].dt.hour                      # Extract the hour of the day\n",
    "new_df['month_year'] = new_df['InvoiceDate'].dt.to_period('M')      # Extract the month and year as a period\n"
   ]
  },
  {
   "cell_type": "markdown",
   "id": "9b79a5da-6d91-4545-805a-19dbc83f3135",
   "metadata": {},
   "source": [
    "### 2.3.2 Calculating Total `Sales`"
   ]
  },
  {
   "cell_type": "markdown",
   "id": "08f8b990-cba7-40dc-a22d-0ce281a397e9",
   "metadata": {},
   "source": [
    "Finally, for the last step, it's time to create columns **Sales** to know the total value for each transaction.\n",
    "\n",
    "To enhance the dataset with financial information, we calculate the total sales amount for each transaction by multiplying the `Quantity` by the `UnitPrice`. This new column, Sales, will help in analyzing revenue and transaction values."
   ]
  },
  {
   "cell_type": "code",
   "execution_count": 17,
   "id": "08f2789e-a7b8-4495-89c1-fe6a96314148",
   "metadata": {},
   "outputs": [
    {
     "data": {
      "text/html": [
       "<div>\n",
       "<style scoped>\n",
       "    .dataframe tbody tr th:only-of-type {\n",
       "        vertical-align: middle;\n",
       "    }\n",
       "\n",
       "    .dataframe tbody tr th {\n",
       "        vertical-align: top;\n",
       "    }\n",
       "\n",
       "    .dataframe thead th {\n",
       "        text-align: right;\n",
       "    }\n",
       "</style>\n",
       "<table border=\"1\" class=\"dataframe\">\n",
       "  <thead>\n",
       "    <tr style=\"text-align: right;\">\n",
       "      <th></th>\n",
       "      <th>InvoiceNo</th>\n",
       "      <th>StockCode</th>\n",
       "      <th>Description</th>\n",
       "      <th>Quantity</th>\n",
       "      <th>InvoiceDate</th>\n",
       "      <th>UnitPrice</th>\n",
       "      <th>CustomerID</th>\n",
       "      <th>Country</th>\n",
       "      <th>Date</th>\n",
       "      <th>Year</th>\n",
       "      <th>Month</th>\n",
       "      <th>Day</th>\n",
       "      <th>Hour</th>\n",
       "      <th>month_year</th>\n",
       "      <th>Sales</th>\n",
       "    </tr>\n",
       "  </thead>\n",
       "  <tbody>\n",
       "    <tr>\n",
       "      <th>1</th>\n",
       "      <td>536365</td>\n",
       "      <td>71053</td>\n",
       "      <td>WHITE METAL LANTERN</td>\n",
       "      <td>6</td>\n",
       "      <td>2010-12-01 08:26:00</td>\n",
       "      <td>3.39</td>\n",
       "      <td>17850.0</td>\n",
       "      <td>United Kingdom</td>\n",
       "      <td>2010-12-01</td>\n",
       "      <td>2010</td>\n",
       "      <td>Dec</td>\n",
       "      <td>Wednesday</td>\n",
       "      <td>8</td>\n",
       "      <td>2010-12</td>\n",
       "      <td>20.34</td>\n",
       "    </tr>\n",
       "    <tr>\n",
       "      <th>6</th>\n",
       "      <td>536365</td>\n",
       "      <td>21730</td>\n",
       "      <td>GLASS STAR FROSTED T-LIGHT HOLDER</td>\n",
       "      <td>6</td>\n",
       "      <td>2010-12-01 08:26:00</td>\n",
       "      <td>4.25</td>\n",
       "      <td>17850.0</td>\n",
       "      <td>United Kingdom</td>\n",
       "      <td>2010-12-01</td>\n",
       "      <td>2010</td>\n",
       "      <td>Dec</td>\n",
       "      <td>Wednesday</td>\n",
       "      <td>8</td>\n",
       "      <td>2010-12</td>\n",
       "      <td>25.50</td>\n",
       "    </tr>\n",
       "    <tr>\n",
       "      <th>7</th>\n",
       "      <td>536366</td>\n",
       "      <td>22633</td>\n",
       "      <td>HAND WARMER UNION JACK</td>\n",
       "      <td>6</td>\n",
       "      <td>2010-12-01 08:28:00</td>\n",
       "      <td>1.85</td>\n",
       "      <td>17850.0</td>\n",
       "      <td>United Kingdom</td>\n",
       "      <td>2010-12-01</td>\n",
       "      <td>2010</td>\n",
       "      <td>Dec</td>\n",
       "      <td>Wednesday</td>\n",
       "      <td>8</td>\n",
       "      <td>2010-12</td>\n",
       "      <td>11.10</td>\n",
       "    </tr>\n",
       "    <tr>\n",
       "      <th>8</th>\n",
       "      <td>536366</td>\n",
       "      <td>22632</td>\n",
       "      <td>HAND WARMER RED POLKA DOT</td>\n",
       "      <td>6</td>\n",
       "      <td>2010-12-01 08:28:00</td>\n",
       "      <td>1.85</td>\n",
       "      <td>17850.0</td>\n",
       "      <td>United Kingdom</td>\n",
       "      <td>2010-12-01</td>\n",
       "      <td>2010</td>\n",
       "      <td>Dec</td>\n",
       "      <td>Wednesday</td>\n",
       "      <td>8</td>\n",
       "      <td>2010-12</td>\n",
       "      <td>11.10</td>\n",
       "    </tr>\n",
       "    <tr>\n",
       "      <th>10</th>\n",
       "      <td>536367</td>\n",
       "      <td>22745</td>\n",
       "      <td>POPPY'S PLAYHOUSE BEDROOM</td>\n",
       "      <td>6</td>\n",
       "      <td>2010-12-01 08:34:00</td>\n",
       "      <td>2.10</td>\n",
       "      <td>13047.0</td>\n",
       "      <td>United Kingdom</td>\n",
       "      <td>2010-12-01</td>\n",
       "      <td>2010</td>\n",
       "      <td>Dec</td>\n",
       "      <td>Wednesday</td>\n",
       "      <td>8</td>\n",
       "      <td>2010-12</td>\n",
       "      <td>12.60</td>\n",
       "    </tr>\n",
       "  </tbody>\n",
       "</table>\n",
       "</div>"
      ],
      "text/plain": [
       "   InvoiceNo StockCode                        Description  Quantity  \\\n",
       "1     536365     71053                WHITE METAL LANTERN         6   \n",
       "6     536365     21730  GLASS STAR FROSTED T-LIGHT HOLDER         6   \n",
       "7     536366     22633             HAND WARMER UNION JACK         6   \n",
       "8     536366     22632          HAND WARMER RED POLKA DOT         6   \n",
       "10    536367     22745          POPPY'S PLAYHOUSE BEDROOM         6   \n",
       "\n",
       "           InvoiceDate  UnitPrice CustomerID         Country       Date  Year  \\\n",
       "1  2010-12-01 08:26:00       3.39    17850.0  United Kingdom 2010-12-01  2010   \n",
       "6  2010-12-01 08:26:00       4.25    17850.0  United Kingdom 2010-12-01  2010   \n",
       "7  2010-12-01 08:28:00       1.85    17850.0  United Kingdom 2010-12-01  2010   \n",
       "8  2010-12-01 08:28:00       1.85    17850.0  United Kingdom 2010-12-01  2010   \n",
       "10 2010-12-01 08:34:00       2.10    13047.0  United Kingdom 2010-12-01  2010   \n",
       "\n",
       "   Month        Day  Hour month_year  Sales  \n",
       "1    Dec  Wednesday     8    2010-12  20.34  \n",
       "6    Dec  Wednesday     8    2010-12  25.50  \n",
       "7    Dec  Wednesday     8    2010-12  11.10  \n",
       "8    Dec  Wednesday     8    2010-12  11.10  \n",
       "10   Dec  Wednesday     8    2010-12  12.60  "
      ]
     },
     "execution_count": 17,
     "metadata": {},
     "output_type": "execute_result"
    }
   ],
   "source": [
    "new_df['Sales'] = new_df['Quantity'] * new_df['UnitPrice']\n",
    "\n",
    "# Displaying the first few rows to verify the new column\n",
    "new_df.head()\n"
   ]
  },
  {
   "cell_type": "markdown",
   "id": "7b0b8975-8e25-4855-ab60-ef95dea7e57f",
   "metadata": {},
   "source": [
    "# **3.0 Exploratory Analysis**\n",
    "---------------------------------"
   ]
  },
  {
   "cell_type": "markdown",
   "id": "a8a610e5-4b89-4bf4-b90a-aead2101cfb3",
   "metadata": {},
   "source": [
    "**Exploratory Data Analysis (EDA)** is a critical step in understanding the characteristics and underlying patterns of a dataset. This phase involves summarizing the main features of the data, often through **visualizations** and **statistical measures**, to uncover insights and guide further data preprocessing and analysis.\n",
    "\n",
    "`In this section`, we will perform EDA on our dataset to gain a comprehensive understanding of the transaction data. By leveraging various data visualization techniques, such as plots and charts, we aim to identify trends, detect anomalies, and highlight key patterns. This process will help us to better grasp the data's structure, distribution, and relationships, setting the stage for more advanced analyses and modeling."
   ]
  },
  {
   "cell_type": "markdown",
   "id": "21f1aefe-90f2-47ae-8125-29ea82b4e4cc",
   "metadata": {},
   "source": [
    "## 3.1 Sales and Quantity Analysis by Country\n",
    "----------------------------------------------"
   ]
  },
  {
   "cell_type": "markdown",
   "id": "cb58c9d8-c07a-4609-9eb9-b20f3f95bc26",
   "metadata": {},
   "source": [
    "To understand how sales and quantity vary across different countries, we aggregate the data by country. This analysis will provide insights into the total number of orders, total sales, and total quantity sold for each country."
   ]
  },
  {
   "cell_type": "code",
   "execution_count": 18,
   "id": "78d74d99-ca3a-4cb2-a0d5-3228233bba48",
   "metadata": {},
   "outputs": [
    {
     "name": "stdout",
     "output_type": "stream",
     "text": [
      "                Total_Order       Sales  Quantity\n",
      "Country                                          \n",
      "United Kingdom       272708  3352647.62   1970315\n",
      "Germany                6934   126673.74     78420\n",
      "France                 6535   115502.90     72293\n",
      "EIRE                   4920    95928.40     53805\n",
      "Spain                  1849    27338.06     16945\n",
      "Switzerland            1313    26943.79     16635\n",
      "Belgium                1527    25941.26     16325\n",
      "Portugal               1176    18982.35     11214\n",
      "Norway                  717    16711.56      8772\n",
      "Netherlands             576    13980.84      6703\n"
     ]
    }
   ],
   "source": [
    "Sales_Country = new_df.groupby(['Country']).agg({\n",
    "    'InvoiceNo': ['nunique'],                              # Count of unique invoices\n",
    "    'InvoiceNo': 'count',                                  # Total number of transactions\n",
    "    'Sales': 'sum',                                        # Total sales amount\n",
    "    'Quantity': 'sum'                                      # Total quantity sold\n",
    "}).rename(columns={'InvoiceNo': 'Total_Order'}).sort_values('Sales', ascending=False)\n",
    "\n",
    "# Displaying the top 10 countries by sales\n",
    "print(Sales_Country.head(10))\n"
   ]
  },
  {
   "cell_type": "markdown",
   "id": "0695edb6-b2be-4ccb-9339-a02308398b40",
   "metadata": {},
   "source": [
    "<br>\n",
    "<br>\n",
    "To visualize the distribution of sales, quantity, and total orders across different countries, we use **pie charts**. Each chart provides a visual representation of the proportion of each country’s contribution to the total sales, quantity, and number of orders."
   ]
  },
  {
   "cell_type": "code",
   "execution_count": 19,
   "id": "ab5a5590-fd0a-4ebe-a515-5e5c296c64f3",
   "metadata": {},
   "outputs": [
    {
     "data": {
      "image/png": "[encoded data removed]",
      "text/plain": [
       "<Figure size 1000x600 with 3 Axes>"
      ]
     },
     "metadata": {},
     "output_type": "display_data"
    }
   ],
   "source": [
    "f, (ax1, ax2, ax3) = plt.subplots(1, 3, figsize=(10,6))\n",
    "\n",
    "def autopct(pct):\n",
    "    return ('%1.2f%%' % pct) if pct > 80 else ''\n",
    "\n",
    "# Pie chart for Sales by Country\n",
    "p, t, a = ax1.pie(Sales_Country.Sales, autopct=autopct, colors=plt.cm.Paired(range(len(Sales_Country))))\n",
    "ax1.axis('equal')  # Equal aspect ratio ensures that pie is drawn as a circle.\n",
    "ax1.set_title('Sales')\n",
    "\n",
    "p, t, a = ax2.pie(Sales_Country.Quantity, autopct=autopct, colors=plt.cm.Paired(range(len(Sales_Country))))\n",
    "ax2.axis('equal')\n",
    "ax2.set_title('Quantity')\n",
    "\n",
    "p, t, a = ax3.pie(Sales_Country.Total_Order, autopct=autopct, colors=plt.cm.Paired(range(len(Sales_Country))))\n",
    "ax3.axis('equal')\n",
    "ax3.set_title('Total Order')\n",
    "\n",
    "# Normalize dataframe for legend\n",
    "normsizes = Sales_Country.Sales / Sales_Country.Sales.sum() * 100\n",
    "normsizes2 = Sales_Country.Quantity / Sales_Country.Quantity.sum() * 100\n",
    "normsizes3 = Sales_Country.Total_Order / Sales_Country.Total_Order.sum() * 100\n",
    "\n",
    "# Create handles and labels for legend, taking only those where value is > 1%\n",
    "h, l = zip(*[(h, lab) for h, lab, i in zip(p, Sales_Country.index.values, normsizes) if i > 80])\n",
    "h, j = zip(*[(h, lab) for h, lab, i in zip(p, Sales_Country.index.values, normsizes2) if i > 80])\n",
    "h, k = zip(*[(h, lab) for h, lab, i in zip(p, Sales_Country.index.values, normsizes3) if i > 80])\n",
    "\n",
    "# Add legends to each pie chart\n",
    "ax1.legend(h, l, loc=\"best\", bbox_to_anchor=(1, 1))\n",
    "ax2.legend(h, j, loc=\"best\", bbox_to_anchor=(1, 1))\n",
    "ax3.legend(h, k, loc=\"best\", bbox_to_anchor=(1, 1))\n",
    "\n",
    "\n",
    "plt.show()\n"
   ]
  },
  {
   "cell_type": "markdown",
   "id": "2b6dadb3-6e6e-4af6-85b3-5e8c9b7bd201",
   "metadata": {},
   "source": [
    "#### Note:\n",
    "\n",
    "From the previous chart, we observed that over **80%** of transactions, in terms of total orders, sales, and quantity, are concentrated in the United Kingdom (UK) or domestic transactions. Now, let's identify which foreign markets are the most promising for online retail."
   ]
  },
  {
   "cell_type": "code",
   "execution_count": 20,
   "id": "d882b6a0-8dbd-4b4c-b76f-9bac4859b2bf",
   "metadata": {},
   "outputs": [
    {
     "data": {
      "text/html": [
       "<div>\n",
       "<style scoped>\n",
       "    .dataframe tbody tr th:only-of-type {\n",
       "        vertical-align: middle;\n",
       "    }\n",
       "\n",
       "    .dataframe tbody tr th {\n",
       "        vertical-align: top;\n",
       "    }\n",
       "\n",
       "    .dataframe thead th {\n",
       "        text-align: right;\n",
       "    }\n",
       "</style>\n",
       "<table border=\"1\" class=\"dataframe\">\n",
       "  <thead>\n",
       "    <tr style=\"text-align: right;\">\n",
       "      <th></th>\n",
       "      <th>Country</th>\n",
       "      <th>Total_Order</th>\n",
       "      <th>Sales</th>\n",
       "      <th>Quantity</th>\n",
       "    </tr>\n",
       "  </thead>\n",
       "  <tbody>\n",
       "    <tr>\n",
       "      <th>1</th>\n",
       "      <td>Germany</td>\n",
       "      <td>6934</td>\n",
       "      <td>126673.74</td>\n",
       "      <td>78420</td>\n",
       "    </tr>\n",
       "    <tr>\n",
       "      <th>2</th>\n",
       "      <td>France</td>\n",
       "      <td>6535</td>\n",
       "      <td>115502.90</td>\n",
       "      <td>72293</td>\n",
       "    </tr>\n",
       "    <tr>\n",
       "      <th>3</th>\n",
       "      <td>EIRE</td>\n",
       "      <td>4920</td>\n",
       "      <td>95928.40</td>\n",
       "      <td>53805</td>\n",
       "    </tr>\n",
       "    <tr>\n",
       "      <th>4</th>\n",
       "      <td>Spain</td>\n",
       "      <td>1849</td>\n",
       "      <td>27338.06</td>\n",
       "      <td>16945</td>\n",
       "    </tr>\n",
       "    <tr>\n",
       "      <th>5</th>\n",
       "      <td>Switzerland</td>\n",
       "      <td>1313</td>\n",
       "      <td>26943.79</td>\n",
       "      <td>16635</td>\n",
       "    </tr>\n",
       "    <tr>\n",
       "      <th>6</th>\n",
       "      <td>Belgium</td>\n",
       "      <td>1527</td>\n",
       "      <td>25941.26</td>\n",
       "      <td>16325</td>\n",
       "    </tr>\n",
       "    <tr>\n",
       "      <th>7</th>\n",
       "      <td>Portugal</td>\n",
       "      <td>1176</td>\n",
       "      <td>18982.35</td>\n",
       "      <td>11214</td>\n",
       "    </tr>\n",
       "    <tr>\n",
       "      <th>8</th>\n",
       "      <td>Norway</td>\n",
       "      <td>717</td>\n",
       "      <td>16711.56</td>\n",
       "      <td>8772</td>\n",
       "    </tr>\n",
       "    <tr>\n",
       "      <th>9</th>\n",
       "      <td>Netherlands</td>\n",
       "      <td>576</td>\n",
       "      <td>13980.84</td>\n",
       "      <td>6703</td>\n",
       "    </tr>\n",
       "    <tr>\n",
       "      <th>10</th>\n",
       "      <td>Australia</td>\n",
       "      <td>467</td>\n",
       "      <td>11709.71</td>\n",
       "      <td>4876</td>\n",
       "    </tr>\n",
       "  </tbody>\n",
       "</table>\n",
       "</div>"
      ],
      "text/plain": [
       "        Country  Total_Order      Sales  Quantity\n",
       "1       Germany         6934  126673.74     78420\n",
       "2        France         6535  115502.90     72293\n",
       "3          EIRE         4920   95928.40     53805\n",
       "4         Spain         1849   27338.06     16945\n",
       "5   Switzerland         1313   26943.79     16635\n",
       "6       Belgium         1527   25941.26     16325\n",
       "7      Portugal         1176   18982.35     11214\n",
       "8        Norway          717   16711.56      8772\n",
       "9   Netherlands          576   13980.84      6703\n",
       "10    Australia          467   11709.71      4876"
      ]
     },
     "execution_count": 20,
     "metadata": {},
     "output_type": "execute_result"
    }
   ],
   "source": [
    "Foreign_Sales = Sales_Country.reset_index().query('Country != \"United Kingdom\"')\n",
    "Foreign_Sales.head(10)"
   ]
  },
  {
   "cell_type": "markdown",
   "id": "251d803f-4c9d-4c8c-892e-4f8801530634",
   "metadata": {},
   "source": [
    "<br>\n",
    "<br>\n",
    "\n",
    "After observing that most transactions originate from the United Kingdom (domestic transactions), the goal now is to examine foreign markets. The code extracts data for all **non-UK countries** and identifies the top-performing ones based on sales, quantity, and total orders."
   ]
  },
  {
   "cell_type": "code",
   "execution_count": 21,
   "id": "29308324-6bd1-41a7-bc9b-ec866d52482f",
   "metadata": {},
   "outputs": [
    {
     "data": {
      "image/png": "[encoded data removed]",
      "text/plain": [
       "<Figure size 1000x600 with 3 Axes>"
      ]
     },
     "metadata": {},
     "output_type": "display_data"
    }
   ],
   "source": [
    "f, (ax1, ax2, ax3) = plt.subplots(1, 3, figsize=(10,6))\n",
    "\n",
    "def autopct(pct):\n",
    "    return ('%1.2f%%' % pct) if pct > 15 else ''\n",
    "\n",
    "# Define custom colors for each pie chart\n",
    "colors1 = ['#ff9999','#66b3ff','#99ff99','#ffcc99','#c2c2f0','#ffb3e6']\n",
    "colors2 = ['#66b3ff','#ff9999','#ffcc99','#99ff99','#c2c2f0','#ffb3e6']\n",
    "colors3 = ['#ffcc99','#99ff99','#66b3ff','#ff9999','#c2c2f0','#ffb3e6']\n",
    "\n",
    "p,t,a = ax1.pie(Foreign_Sales.Sales, autopct=autopct, colors=colors1)\n",
    "p,t,a = ax2.pie(Foreign_Sales.Quantity, autopct=autopct, colors=colors2)\n",
    "p,t,a = ax3.pie(Foreign_Sales.Total_Order, autopct=autopct, colors=colors3)\n",
    "ax1.axis('equal')\n",
    "ax2.axis('equal')\n",
    "ax3.axis('equal')\n",
    "\n",
    "# normalize dataframe (not actually needed here, but for general case)\n",
    "normsizes = Foreign_Sales.Sales/Foreign_Sales.Sales.sum()*100\n",
    "normsizes2 = Foreign_Sales.Quantity/Foreign_Sales.Quantity.sum()*100\n",
    "normsizes3 = Foreign_Sales.Total_Order/Foreign_Sales.Total_Order.sum()*100\n",
    "\n",
    "# create handles and labels for legend, take only those where value is > 15\n",
    "h,l = zip(*[(h,lab) for h,lab,i in zip(p,Foreign_Sales.Country.values,normsizes.values) if i > 15])\n",
    "h,j = zip(*[(h,lab) for h,lab,i in zip(p,Foreign_Sales.Country.values,normsizes2.values) if i > 15])\n",
    "h,k = zip(*[(h,lab) for h,lab,i in zip(p,Foreign_Sales.Country.values,normsizes3.values) if i > 15])\n",
    "ax1.set_title('Sales')\n",
    "ax2.set_title('Quantity')\n",
    "ax3.set_title('Total Order')\n",
    "\n",
    "ax1.legend(h, l,loc=\"best\", bbox_to_anchor=(1,1))\n",
    "ax2.legend(h, j,loc=\"best\", bbox_to_anchor=(1,1))\n",
    "ax3.legend(h, k,loc=\"best\", bbox_to_anchor=(1,1))\n",
    "\n",
    "plt.show()\n"
   ]
  },
  {
   "cell_type": "markdown",
   "id": "8869b67f-8a8f-489d-87a6-283cea32a961",
   "metadata": {},
   "source": [
    "The top **3** foreign transaction countries are Germany, France, and Ireland."
   ]
  },
  {
   "cell_type": "markdown",
   "id": "b0a373a9-48f6-4788-a336-2a07bdd618e8",
   "metadata": {},
   "source": [
    "# **4.0 Sales MoM**\n",
    "-----------------------"
   ]
  },
  {
   "cell_type": "markdown",
   "id": "f0e215fe-4731-4ffb-bb7d-23b9bfe5912a",
   "metadata": {},
   "source": [
    "In this section, we will analyze the **month-over-month (MoM)** growth in sales and product quantity. Tracking MoM growth helps identify trends and patterns in customer purchasing behavior, allowing for a clearer understanding of sales performance over time. By evaluating the fluctuation in sales and product quantity across different months, we can gain insights into seasonal demand, promotional impacts, and potential growth opportunities for the business."
   ]
  },
  {
   "cell_type": "code",
   "execution_count": 22,
   "id": "21d69172-7bec-4f67-8450-3e84a0e40abe",
   "metadata": {},
   "outputs": [
    {
     "data": {
      "image/png": "[encoded data removed]",
      "text/plain": [
       "<Figure size 640x480 with 1 Axes>"
      ]
     },
     "metadata": {},
     "output_type": "display_data"
    }
   ],
   "source": [
    "Sales_MoM = pd.DataFrame(new_df.groupby(['month_year']).agg({'Sales':'sum', 'Quantity':'sum'})).reset_index()\n",
    "Sales_MoM.plot(x='month_year');"
   ]
  },
  {
   "cell_type": "markdown",
   "id": "fe1258f8-7262-41da-8eb3-9ac0c1598620",
   "metadata": {},
   "source": [
    "From the previous chart, we can observe that growth began around August and peaked in November 2011."
   ]
  },
  {
   "cell_type": "markdown",
   "id": "c720f6b1-d3bd-4721-b46c-afa39b6db1b1",
   "metadata": {},
   "source": [
    "## 4.1 Top Sales by Product\n",
    "----------------------------"
   ]
  },
  {
   "cell_type": "code",
   "execution_count": 23,
   "id": "f199c763-3ef6-42bd-be19-7d3c67a04e53",
   "metadata": {},
   "outputs": [
    {
     "name": "stdout",
     "output_type": "stream",
     "text": [
      "                                  Total_Order     Sales\n",
      "Description                                            \n",
      "PARTY BUNTING                            1268  34952.85\n",
      "SPOTTY BUNTING                            972  23379.40\n",
      "ASSORTED COLOUR BIRD ORNAMENT            1144  22848.80\n",
      "JAM MAKING SET WITH JARS                  824  21137.25\n",
      "HOT WATER BOTTLE KEEP CALM                723  20617.35\n",
      "SET OF 3 CAKE TINS PANTRY DESIGN         1113  20583.97\n",
      "CHILLI LIGHTS                             443  18379.80\n",
      "CHOCOLATE HOT WATER BOTTLE                684  18308.10\n",
      "RETROSPOT TEA SET CERAMIC 11 PC           806  17941.60\n",
      "NATURAL SLATE HEART CHALKBOARD            936  17750.77\n",
      "\n",
      "------------------------------------------------------------\n",
      "\n",
      "                                    Total_Order  Quantity\n",
      "Description                                              \n",
      "PACK OF 72 RETROSPOT CAKE CASES             945     14986\n",
      "ASSORTED COLOUR BIRD ORNAMENT              1144     13520\n",
      "LUNCH BAG RED RETROSPOT                    1195      9776\n",
      "JAM MAKING SET PRINTED                      809      8671\n",
      "PACK OF 60 PINK PAISLEY CAKE CASES          601      8498\n",
      "60 TEATIME FAIRY CAKE CASES                 617      8376\n",
      "VICTORIAN GLASS HANGING T-LIGHT             661      7601\n",
      "LUNCH BAG SUKI DESIGN                      1003      7478\n",
      "RED RETROSPOT WRAP                          299      7447\n",
      "LUNCH BAG BLACK SKULL                      1021      7328\n"
     ]
    }
   ],
   "source": [
    "# Top Sales by Product\n",
    "Sales_Product = new_df.groupby(['Description']).agg({'InvoiceNo': ['nunique'],\n",
    "                                      'InvoiceNo': 'count', 'Sales':'sum'}).rename(columns={'InvoiceNo':'Total_Order'}).sort_values('Sales', ascending=False)[0:10]\n",
    "\n",
    "# Top Quantity by Product\n",
    "Quantity_Product = new_df.groupby(['Description']).agg({'InvoiceNo': ['nunique'],\n",
    "                                      'InvoiceNo': 'count', 'Quantity':'sum'}).rename(columns={'InvoiceNo':'Total_Order'}).sort_values('Quantity', ascending=False)[0:10]\n",
    "\n",
    "\n",
    "\n",
    "# Print the top sales and quantity by product\n",
    "print(Sales_Product)\n",
    "\n",
    "print(\"\\n\" + \"-\"*60 + \"\\n\")\n",
    "\n",
    "print(Quantity_Product)\n"
   ]
  },
  {
   "cell_type": "code",
   "execution_count": 25,
   "id": "3966d8c8-bc47-4f09-80b4-610b3ee44e13",
   "metadata": {},
   "outputs": [
    {
     "data": {
      "image/png": "[encoded data removed]",
      "text/plain": [
       "<Figure size 800x1000 with 2 Axes>"
      ]
     },
     "metadata": {},
     "output_type": "display_data"
    }
   ],
   "source": [
    "fig, axes = plt.subplots(2,figsize=(8, 10))\n",
    "\n",
    "# Plot Sales by Product\n",
    "sns.barplot(x='Sales', y=Sales_Product.index, data = Sales_Product,\n",
    "            label=\"Sales\", ax=axes[0])\n",
    "\n",
    "# Plot Quantity by Product\n",
    "sns.barplot(x='Quantity', y=Quantity_Product.index, data=Quantity_Product,\n",
    "            label=\"Quantity\", ax=axes[1])\n",
    "plt.show()"
   ]
  },
  {
   "cell_type": "markdown",
   "id": "0bcbf99a-4189-41ae-8152-0132d1b4f0c5",
   "metadata": {},
   "source": [
    "#### Note:\n",
    "\n",
    "This is quite intriguing. The differences between the Top 10 products by sales and the Top 10 products by quantity indicate that higher quantities sold **do not necessarily** result in higher sales revenue. To gain more insight, we should analyze the Top 10 products that not only have high quantities sold but also generate the **highest revenue**.\n",
    "\n",
    "<br>"
   ]
  },
  {
   "cell_type": "code",
   "execution_count": 26,
   "id": "4e926392-8417-476d-b1f5-ed449ae05f51",
   "metadata": {},
   "outputs": [
    {
     "data": {
      "text/html": [
       "<div>\n",
       "<style scoped>\n",
       "    .dataframe tbody tr th:only-of-type {\n",
       "        vertical-align: middle;\n",
       "    }\n",
       "\n",
       "    .dataframe tbody tr th {\n",
       "        vertical-align: top;\n",
       "    }\n",
       "\n",
       "    .dataframe thead th {\n",
       "        text-align: right;\n",
       "    }\n",
       "</style>\n",
       "<table border=\"1\" class=\"dataframe\">\n",
       "  <thead>\n",
       "    <tr style=\"text-align: right;\">\n",
       "      <th></th>\n",
       "      <th>Total_Order_x</th>\n",
       "      <th>Quantity</th>\n",
       "      <th>Total_Order_y</th>\n",
       "      <th>Sales</th>\n",
       "    </tr>\n",
       "    <tr>\n",
       "      <th>Description</th>\n",
       "      <th></th>\n",
       "      <th></th>\n",
       "      <th></th>\n",
       "      <th></th>\n",
       "    </tr>\n",
       "  </thead>\n",
       "  <tbody>\n",
       "    <tr>\n",
       "      <th>ASSORTED COLOUR BIRD ORNAMENT</th>\n",
       "      <td>1144</td>\n",
       "      <td>13520</td>\n",
       "      <td>1144</td>\n",
       "      <td>22848.8</td>\n",
       "    </tr>\n",
       "  </tbody>\n",
       "</table>\n",
       "</div>"
      ],
      "text/plain": [
       "                               Total_Order_x  Quantity  Total_Order_y    Sales\n",
       "Description                                                                   \n",
       "ASSORTED COLOUR BIRD ORNAMENT           1144     13520           1144  22848.8"
      ]
     },
     "execution_count": 26,
     "metadata": {},
     "output_type": "execute_result"
    }
   ],
   "source": [
    "Quantity_Sales = Quantity_Product.merge(Sales_Product, left_index=True, right_index=True, how='inner')\n",
    "Quantity_Sales"
   ]
  },
  {
   "cell_type": "markdown",
   "id": "d8df3ecb-1cda-45c8-b5bf-8fb52d445022",
   "metadata": {},
   "source": [
    "#### Note:\n",
    "\n",
    "Indeed, the analysis reveals that **ASSORTED COLOUR BIRD ORNAMENT** stands out as the only product that ranks highest in both sales revenue and quantity sold. This finding highlights that this particular product not only generates the **highest sales** but also enjoys the **greatest demand** in the market. Retailers should focus on this product, as its strong performance in both sales and quantity indicates a significant market demand.\n",
    "\n",
    "<br>\n",
    "<br>"
   ]
  },
  {
   "cell_type": "markdown",
   "id": "3d34a35b-31bc-4f08-ba01-b8a5c24e7bef",
   "metadata": {},
   "source": [
    "## 4.3 Highest and Lowest Month of Sales\n",
    "-----------------------------------------"
   ]
  },
  {
   "cell_type": "markdown",
   "id": "6c17e253-0a94-49f5-9059-30daab6c7a61",
   "metadata": {},
   "source": [
    "In the previous analysis, we observed that **November** exhibited the highest peak in transactions. To gain a clearer understanding of the sales patterns throughout the year, it's essential to identify the months that generated both the highest and lowest sales and quantities. This analysis will help us pinpoint specific months of peak performance and those with lower sales activity, offering valuable insights into seasonal trends and overall performance throughout the year."
   ]
  },
  {
   "cell_type": "code",
   "execution_count": 27,
   "id": "6313616d-d95f-44ad-a5ec-9ee9a6b00d47",
   "metadata": {},
   "outputs": [
    {
     "data": {
      "image/png": "[encoded data removed]",
      "text/plain": [
       "<Figure size 1500x500 with 2 Axes>"
      ]
     },
     "metadata": {},
     "output_type": "display_data"
    }
   ],
   "source": [
    "Monthly_Sales = new_df.groupby(['Month']).agg({'Sales':'sum', 'Quantity':'sum'})\n",
    "\n",
    "# Reordering months to ensure correct sequence in the plot\n",
    "months_ordered = ['Jan', 'Feb', 'Mar', 'Apr', 'May', 'Jun', 'Jul', 'Aug', 'Sep', 'Oct', 'Nov', 'Dec']\n",
    "Monthly_Sales = Monthly_Sales.reindex(months_ordered)\n",
    "\n",
    "# Creating subplots for visualizing sales and quantity by month\n",
    "fig, axes = plt.subplots(1, 2, figsize=(15, 5))\n",
    "\n",
    "sns.barplot(x=Monthly_Sales.index, y='Sales', data = Monthly_Sales,\n",
    "            label=\"Sales\", ax=axes[0])\n",
    "sns.barplot(x=Monthly_Sales.index, y='Quantity', data = Monthly_Sales,\n",
    "            label=\"Quantity\", ax=axes[1])\n",
    "plt.show()\n",
    "     "
   ]
  },
  {
   "cell_type": "markdown",
   "id": "9ad161b8-75f0-492b-8adf-e42531e8d433",
   "metadata": {},
   "source": [
    "## 4.4 Highest Sales of Day\n",
    "---------------------------"
   ]
  },
  {
   "cell_type": "markdown",
   "id": "a7d453b0-9703-4bc8-a5da-54fee6b62101",
   "metadata": {},
   "source": [
    "To gain further insights into sales patterns, we'll examine how sales and quantity vary by **day of the week**. Rather than focusing on total sales, we'll calculate the average sales and quantity for each day. It's important to note that there are no transactions on Saturdays. This analysis will help us identify which days of the week typically generate the highest average sales and quantities, providing a clearer understanding of daily sales performance and trends."
   ]
  },
  {
   "cell_type": "code",
   "execution_count": 28,
   "id": "63be5984-ea32-4937-a261-115eed73ae9d",
   "metadata": {},
   "outputs": [
    {
     "data": {
      "image/png": "[encoded data removed]",
      "text/plain": [
       "<Figure size 1500x500 with 2 Axes>"
      ]
     },
     "metadata": {},
     "output_type": "display_data"
    }
   ],
   "source": [
    "Day_Sales = new_df.groupby(['Day']).agg({'Sales':'mean', 'Quantity':'mean'})\n",
    "day_ordered = ['Monday', 'Tuesday', 'Wednesday', 'Thursday', 'Friday', 'Sunday']\n",
    "Day_Sales = Day_Sales.reindex(day_ordered)\n",
    "fig, axes = plt.subplots(1,2,figsize=(15,5))\n",
    "\n",
    "# Plotting the average sales by day of the week\n",
    "sns.barplot(x=Day_Sales.index, y='Sales', data = Day_Sales,\n",
    "            label=\"Sales\", ax=axes[0])\n",
    "\n",
    "# Plotting the average quantity sold by day of the week\n",
    "sns.barplot(x=Day_Sales.index, y='Quantity', data = Day_Sales,\n",
    "            label=\"Quantity\", ax=axes[1])\n",
    "plt.show()"
   ]
  },
  {
   "cell_type": "markdown",
   "id": "0654f462-7a00-4f24-b81f-45e3b61e3bd4",
   "metadata": {},
   "source": [
    "It’s evident that **Friday** is the most popular day for shopping, while **Sunday** is the least favored day for transactions.\n",
    "\n",
    "<br>"
   ]
  },
  {
   "cell_type": "markdown",
   "id": "a4028f9c-9c7d-4fb0-8cc0-d8d5a599baac",
   "metadata": {},
   "source": [
    "## 4.5 Hourly based highest sales"
   ]
  },
  {
   "cell_type": "markdown",
   "id": "55eace6b-5d75-4a06-850d-1e519dc9920c",
   "metadata": {},
   "source": [
    "Now, we delve into the sales performance on an **hourly basis**. By examining the average sales and quantity of transactions throughout different hours of the day, we aim to identify peak shopping hours and understand customer purchasing behavior more granularly. This analysis helps in optimizing store operations and marketing strategies by focusing efforts during the most profitable times of the day."
   ]
  },
  {
   "cell_type": "code",
   "execution_count": 29,
   "id": "1807a048-a960-4eb5-b86a-cdd2233b465b",
   "metadata": {},
   "outputs": [
    {
     "data": {
      "image/png": "[encoded data removed]",
      "text/plain": [
       "<Figure size 1500x500 with 2 Axes>"
      ]
     },
     "metadata": {},
     "output_type": "display_data"
    }
   ],
   "source": [
    "# Average sales and quantity by hour of the day\n",
    "Hour_Sales = new_df.groupby(['Hour']).agg({'Sales':'mean', 'Quantity':'mean'})\n",
    "fig, axes = plt.subplots(1,2,figsize=(15,5))\n",
    "sns.barplot(x=Hour_Sales.index, y='Sales', data = Hour_Sales,\n",
    "            label=\"Sales\", ax=axes[0])\n",
    "sns.barplot(x=Hour_Sales.index, y='Quantity', data = Hour_Sales,\n",
    "            label=\"Quantity\", ax=axes[1])\n",
    "plt.show()"
   ]
  },
  {
   "cell_type": "markdown",
   "id": "f0cbb497-3159-438a-bac1-bffa728a7ca5",
   "metadata": {},
   "source": [
    "The peak period for transactions is in the **morning**, particularly around **7 a.m. and from 8 to 10 a.m**.\n",
    "\n",
    "<br>"
   ]
  },
  {
   "cell_type": "markdown",
   "id": "5964ceda-1b63-4c2a-a5d4-478432d37305",
   "metadata": {},
   "source": [
    "# **5. Customer**\n",
    "-----------------------"
   ]
  },
  {
   "cell_type": "markdown",
   "id": "46249ac5-8670-4c69-9d82-bddd3737f5ef",
   "metadata": {},
   "source": [
    "#### Customer Demography\n",
    "\n",
    "By analyzing customer data, we aim to gain insights into various demographic attributes, such as geographical location and purchasing behavior. This understanding will help identify key customer segments, tailor marketing strategies, and enhance customer experience based on their demographic profiles."
   ]
  },
  {
   "cell_type": "code",
   "execution_count": 30,
   "id": "3a6ccc4c-8593-401a-a365-927a16f78d70",
   "metadata": {},
   "outputs": [
    {
     "name": "stdout",
     "output_type": "stream",
     "text": [
      "                CustomerID\n",
      "Country                   \n",
      "United Kingdom      272708\n",
      "Germany               6934\n",
      "France                6535\n",
      "EIRE                  4920\n",
      "Spain                 1849\n",
      "Belgium               1527\n",
      "Switzerland           1313\n",
      "Portugal              1176\n",
      "Norway                 717\n",
      "Netherlands            576\n",
      "\n",
      "------------------------------------------------------------\n",
      "\n"
     ]
    },
    {
     "data": {
      "image/png": "[encoded data removed]",
      "text/plain": [
       "<Figure size 500x500 with 1 Axes>"
      ]
     },
     "metadata": {},
     "output_type": "display_data"
    }
   ],
   "source": [
    "Customer_Demog = new_df.groupby('Country').agg({'CustomerID': ['nunique'],\n",
    "                                      'CustomerID': 'count'})\n",
    "print(Customer_Demog.sort_values('CustomerID', ascending=False)[0:10])\n",
    "\n",
    "f, (ax) = plt.subplots(1, figsize=(5,5))\n",
    "def autopct(pct):\n",
    "    return ('%1.2f%%' % pct) if pct > 70 else ''\n",
    "\n",
    "p,t,a = ax.pie(Customer_Demog.CustomerID, autopct=autopct)\n",
    "ax.axis('equal')\n",
    "\n",
    "# normalize dataframe (not actually needed here, but for general case)\n",
    "normsizes = Customer_Demog.CustomerID/Customer_Demog.CustomerID.sum()*100\n",
    "\n",
    "# create handles and labels for legend, take only those where value is > 1\n",
    "h,l = zip(*[(h,lab) for h,lab,i in zip(p,Customer_Demog.index.values,normsizes.values) if i > 70])\n",
    "\n",
    "ax.set_title('Customer Demography')\n",
    "ax.legend(h, l,loc=\"best\", bbox_to_anchor=(1,1))\n",
    "\n",
    "print(\"\\n\" + \"-\"*60 + \"\\n\")\n",
    "\n",
    "plt.show()\n",
    "     "
   ]
  },
  {
   "cell_type": "markdown",
   "id": "27677ae2-d719-4f53-be18-b437d48826d2",
   "metadata": {},
   "source": [
    "Based on the previous chart, we observed that a significant majority of customers—over **80%** are from the United Kingdom (UK) or domestic sources. Now, let's investigate the distribution of foreign customers to identify the best foreign markets for online retail.\n",
    "\n",
    "<br>"
   ]
  },
  {
   "cell_type": "code",
   "execution_count": 31,
   "id": "82a6f75d-e5a7-46f2-a97b-ecd94ee01fc0",
   "metadata": {},
   "outputs": [
    {
     "data": {
      "text/html": [
       "<div>\n",
       "<style scoped>\n",
       "    .dataframe tbody tr th:only-of-type {\n",
       "        vertical-align: middle;\n",
       "    }\n",
       "\n",
       "    .dataframe tbody tr th {\n",
       "        vertical-align: top;\n",
       "    }\n",
       "\n",
       "    .dataframe thead th {\n",
       "        text-align: right;\n",
       "    }\n",
       "</style>\n",
       "<table border=\"1\" class=\"dataframe\">\n",
       "  <thead>\n",
       "    <tr style=\"text-align: right;\">\n",
       "      <th></th>\n",
       "      <th>Country</th>\n",
       "      <th>CustomerID</th>\n",
       "    </tr>\n",
       "  </thead>\n",
       "  <tbody>\n",
       "    <tr>\n",
       "      <th>14</th>\n",
       "      <td>Germany</td>\n",
       "      <td>6934</td>\n",
       "    </tr>\n",
       "    <tr>\n",
       "      <th>13</th>\n",
       "      <td>France</td>\n",
       "      <td>6535</td>\n",
       "    </tr>\n",
       "    <tr>\n",
       "      <th>10</th>\n",
       "      <td>EIRE</td>\n",
       "      <td>4920</td>\n",
       "    </tr>\n",
       "    <tr>\n",
       "      <th>30</th>\n",
       "      <td>Spain</td>\n",
       "      <td>1849</td>\n",
       "    </tr>\n",
       "    <tr>\n",
       "      <th>3</th>\n",
       "      <td>Belgium</td>\n",
       "      <td>1527</td>\n",
       "    </tr>\n",
       "    <tr>\n",
       "      <th>32</th>\n",
       "      <td>Switzerland</td>\n",
       "      <td>1313</td>\n",
       "    </tr>\n",
       "    <tr>\n",
       "      <th>26</th>\n",
       "      <td>Portugal</td>\n",
       "      <td>1176</td>\n",
       "    </tr>\n",
       "    <tr>\n",
       "      <th>24</th>\n",
       "      <td>Norway</td>\n",
       "      <td>717</td>\n",
       "    </tr>\n",
       "    <tr>\n",
       "      <th>23</th>\n",
       "      <td>Netherlands</td>\n",
       "      <td>576</td>\n",
       "    </tr>\n",
       "    <tr>\n",
       "      <th>18</th>\n",
       "      <td>Italy</td>\n",
       "      <td>570</td>\n",
       "    </tr>\n",
       "  </tbody>\n",
       "</table>\n",
       "</div>"
      ],
      "text/plain": [
       "        Country  CustomerID\n",
       "14      Germany        6934\n",
       "13       France        6535\n",
       "10         EIRE        4920\n",
       "30        Spain        1849\n",
       "3       Belgium        1527\n",
       "32  Switzerland        1313\n",
       "26     Portugal        1176\n",
       "24       Norway         717\n",
       "23  Netherlands         576\n",
       "18        Italy         570"
      ]
     },
     "execution_count": 31,
     "metadata": {},
     "output_type": "execute_result"
    }
   ],
   "source": [
    "Foreign_Demog = Customer_Demog.reset_index().query('Country != \"United Kingdom\"')\n",
    "Foreign_Demog.sort_values('CustomerID', ascending=False).head(10)"
   ]
  },
  {
   "cell_type": "markdown",
   "id": "7b4542ff-8acc-45c8-bdc0-efe0725840d9",
   "metadata": {},
   "source": [
    "<br>\n",
    "<br>\n",
    "Noow, we are going to visualize the distribution of customers from different countries who have made purchases in the online retailer shop as shown in the dataset. "
   ]
  },
  {
   "cell_type": "code",
   "execution_count": 32,
   "id": "fb7f52d7-0047-4804-8362-5203ae3f5bd5",
   "metadata": {},
   "outputs": [
    {
     "data": {
      "image/png": "[encoded data removed]",
      "text/plain": [
       "<Figure size 900x600 with 1 Axes>"
      ]
     },
     "metadata": {},
     "output_type": "display_data"
    }
   ],
   "source": [
    "#Visualize the distribution of customers by country using a pie chart.\n",
    "\n",
    "f, ax = plt.subplots(1, figsize=(9,6))\n",
    "\n",
    "def autopct(pct):\n",
    "    return ('%1.2f%%' % pct) if pct > 15 else ''\n",
    "\n",
    "p,t,a = ax.pie(Foreign_Demog.CustomerID, autopct=autopct)\n",
    "ax.axis('equal')\n",
    "\n",
    "# normalize dataframe (This is not actually needed here, but for general case)\n",
    "normsizes = Foreign_Demog.CustomerID/Foreign_Demog.CustomerID.sum()*100\n",
    "\n",
    "# create handles and labels for legend, take only those where value is > 1\n",
    "h,l = zip(*[(h,lab) for h,lab,i in zip(p,Foreign_Demog.Country.values,normsizes.values) if i > 15])\n",
    "ax.set_title('Total Customer')\n",
    "ax.legend(h, l,loc=\"best\", bbox_to_anchor=(1,1))\n",
    "\n",
    "plt.show()"
   ]
  },
  {
   "cell_type": "markdown",
   "id": "822f4a69-6d5b-4bd7-92bc-2b18565bd8d2",
   "metadata": {},
   "source": [
    "Just like with transactions and quantities, the top foreign customers are predominantly from **Germany**, **France**, and **Ireland**."
   ]
  },
  {
   "cell_type": "markdown",
   "id": "66f14bfd-ed55-4741-b25b-60258bc58021",
   "metadata": {},
   "source": [
    "## 5.1 Top Customer\n",
    "-----------------------"
   ]
  },
  {
   "cell_type": "markdown",
   "id": "16f4548e-92cd-434c-b1c6-5183e0a12ad2",
   "metadata": {},
   "source": [
    "In this section, we will identify the top customers who have contributed the most to **sales and quantity**. By analyzing the data, we aim to pinpoint which customers have generated the highest sales revenue and purchased the largest quantities, providing valuable insights into customer behavior and purchasing patterns."
   ]
  },
  {
   "cell_type": "code",
   "execution_count": 33,
   "id": "860421c2-f43d-4cac-9449-742d0bdd07cf",
   "metadata": {},
   "outputs": [
    {
     "name": "stdout",
     "output_type": "stream",
     "text": [
      "               Sales\n",
      "CustomerID          \n",
      "14911.0     76424.67\n",
      "13089.0     32957.08\n",
      "14096.0     32949.41\n",
      "17841.0     29176.25\n",
      "14298.0     20823.48\n",
      "12748.0     18388.33\n",
      "14156.0     17179.68\n",
      "13081.0     16012.81\n",
      "15311.0     14220.87\n",
      "17675.0     13717.15\n"
     ]
    }
   ],
   "source": [
    "Sales_Customer = new_df.groupby(['CustomerID']).agg({'Sales':'sum'}).sort_values('Sales', ascending=False)[0:10]\n",
    "Quantity_Customer = new_df.groupby(['CustomerID']).agg({'Quantity':'sum'}).sort_values('Quantity', ascending=False)[0:10]\n",
    "print(Sales_Customer)"
   ]
  },
  {
   "cell_type": "code",
   "execution_count": 34,
   "id": "1a90189e-6bc3-4533-b315-65ab2155ad41",
   "metadata": {},
   "outputs": [
    {
     "name": "stdout",
     "output_type": "stream",
     "text": [
      "            Quantity\n",
      "CustomerID          \n",
      "14911.0        45072\n",
      "13089.0        18858\n",
      "17841.0        17602\n",
      "14298.0        14482\n",
      "12748.0        13372\n",
      "14096.0        11819\n",
      "13081.0        11129\n",
      "14156.0         7422\n",
      "17735.0         7197\n",
      "12921.0         7174\n"
     ]
    }
   ],
   "source": [
    "print(Quantity_Customer)"
   ]
  },
  {
   "cell_type": "markdown",
   "id": "56fd68be-56a7-40a0-8f4f-3a210700c0e7",
   "metadata": {},
   "source": [
    "<br>\n",
    "<br>\n",
    "\n",
    "Now, let's visualize the top customers based on their **total sales** and **quantity of purchases**."
   ]
  },
  {
   "cell_type": "code",
   "execution_count": 35,
   "id": "2836b1f6-3598-41a7-8818-b4989b27db0f",
   "metadata": {},
   "outputs": [
    {
     "data": {
      "image/png": "[encoded data removed]",
      "text/plain": [
       "<Figure size 800x1000 with 2 Axes>"
      ]
     },
     "metadata": {},
     "output_type": "display_data"
    }
   ],
   "source": [
    "fig, axes = plt.subplots(2,figsize=(8, 10))\n",
    "\n",
    "# based on total sales\n",
    "sns.barplot(x='Sales', y=Sales_Customer.index, data = Sales_Customer,\n",
    "            label=\"Sales\", ax=axes[0])\n",
    "\n",
    "# based on quantity of purchases\n",
    "sns.barplot(x='Quantity', y=Quantity_Customer.index, data=Quantity_Customer,\n",
    "            label=\"Quantity\", ax=axes[1])\n",
    "plt.show()\n",
    "     "
   ]
  },
  {
   "cell_type": "markdown",
   "id": "ec52e39f-d5f1-42ee-9879-508b2dd2c00b",
   "metadata": {},
   "source": [
    "This shows that the customer with the **Customer ID: 14911** is the top customer based on their totals product sales and quality of purcheses.\n",
    "\n",
    "<br>\n",
    "\n",
    "Now, let's find out that Who is the customer that generated **BOTH** the highest quantity and sales?"
   ]
  },
  {
   "cell_type": "code",
   "execution_count": 36,
   "id": "e6c342ad-8c89-4459-bc5f-9f2a0f13c5f4",
   "metadata": {},
   "outputs": [
    {
     "data": {
      "text/html": [
       "<div>\n",
       "<style scoped>\n",
       "    .dataframe tbody tr th:only-of-type {\n",
       "        vertical-align: middle;\n",
       "    }\n",
       "\n",
       "    .dataframe tbody tr th {\n",
       "        vertical-align: top;\n",
       "    }\n",
       "\n",
       "    .dataframe thead th {\n",
       "        text-align: right;\n",
       "    }\n",
       "</style>\n",
       "<table border=\"1\" class=\"dataframe\">\n",
       "  <thead>\n",
       "    <tr style=\"text-align: right;\">\n",
       "      <th></th>\n",
       "      <th>Quantity</th>\n",
       "      <th>Sales</th>\n",
       "    </tr>\n",
       "    <tr>\n",
       "      <th>CustomerID</th>\n",
       "      <th></th>\n",
       "      <th></th>\n",
       "    </tr>\n",
       "  </thead>\n",
       "  <tbody>\n",
       "    <tr>\n",
       "      <th>14911.0</th>\n",
       "      <td>45072</td>\n",
       "      <td>76424.67</td>\n",
       "    </tr>\n",
       "    <tr>\n",
       "      <th>13089.0</th>\n",
       "      <td>18858</td>\n",
       "      <td>32957.08</td>\n",
       "    </tr>\n",
       "    <tr>\n",
       "      <th>17841.0</th>\n",
       "      <td>17602</td>\n",
       "      <td>29176.25</td>\n",
       "    </tr>\n",
       "    <tr>\n",
       "      <th>14298.0</th>\n",
       "      <td>14482</td>\n",
       "      <td>20823.48</td>\n",
       "    </tr>\n",
       "    <tr>\n",
       "      <th>12748.0</th>\n",
       "      <td>13372</td>\n",
       "      <td>18388.33</td>\n",
       "    </tr>\n",
       "    <tr>\n",
       "      <th>14096.0</th>\n",
       "      <td>11819</td>\n",
       "      <td>32949.41</td>\n",
       "    </tr>\n",
       "    <tr>\n",
       "      <th>13081.0</th>\n",
       "      <td>11129</td>\n",
       "      <td>16012.81</td>\n",
       "    </tr>\n",
       "    <tr>\n",
       "      <th>14156.0</th>\n",
       "      <td>7422</td>\n",
       "      <td>17179.68</td>\n",
       "    </tr>\n",
       "  </tbody>\n",
       "</table>\n",
       "</div>"
      ],
      "text/plain": [
       "            Quantity     Sales\n",
       "CustomerID                    \n",
       "14911.0        45072  76424.67\n",
       "13089.0        18858  32957.08\n",
       "17841.0        17602  29176.25\n",
       "14298.0        14482  20823.48\n",
       "12748.0        13372  18388.33\n",
       "14096.0        11819  32949.41\n",
       "13081.0        11129  16012.81\n",
       "14156.0         7422  17179.68"
      ]
     },
     "execution_count": 36,
     "metadata": {},
     "output_type": "execute_result"
    }
   ],
   "source": [
    "Quantity_Sales_Cust = Quantity_Customer.merge(Sales_Customer, left_index=True, right_index=True, how='inner')\n",
    "Quantity_Sales_Cust"
   ]
  },
  {
   "cell_type": "markdown",
   "id": "ccc18105-9445-49d7-aef9-777f3d33fc8e",
   "metadata": {},
   "source": [
    "It's fascinating to see that **8** customers are responsible for **both** the highest quantity purchases and the greatest sales revenue."
   ]
  },
  {
   "cell_type": "markdown",
   "id": "a921daed-c755-4262-b3e1-f7823974f9d7",
   "metadata": {},
   "source": [
    "# **6.0 Order vs Sales**\n",
    "-------------------------"
   ]
  },
  {
   "cell_type": "markdown",
   "id": "34167ec8-90cc-42b0-9123-fd6c72923891",
   "metadata": {},
   "source": [
    "In this section, we will analyze the relationship between the number of orders and the total sales revenue generated by customers. It is common for a single order to include multiple products. By identifying the top **10 customers** with the highest total number of orders, we can also determine the sales revenue they have generated. This analysis will provide insights into how order volume correlates with revenue and highlight key customers contributing significantly to sales."
   ]
  },
  {
   "cell_type": "code",
   "execution_count": 37,
   "id": "b0b4c030-f728-49d7-ae2c-d45905bf9c21",
   "metadata": {},
   "outputs": [
    {
     "data": {
      "text/html": [
       "<div>\n",
       "<style scoped>\n",
       "    .dataframe tbody tr th:only-of-type {\n",
       "        vertical-align: middle;\n",
       "    }\n",
       "\n",
       "    .dataframe tbody tr th {\n",
       "        vertical-align: top;\n",
       "    }\n",
       "\n",
       "    .dataframe thead th {\n",
       "        text-align: right;\n",
       "    }\n",
       "</style>\n",
       "<table border=\"1\" class=\"dataframe\">\n",
       "  <thead>\n",
       "    <tr style=\"text-align: right;\">\n",
       "      <th></th>\n",
       "      <th>Total_Order</th>\n",
       "      <th>Sales</th>\n",
       "    </tr>\n",
       "    <tr>\n",
       "      <th>CustomerID</th>\n",
       "      <th></th>\n",
       "      <th></th>\n",
       "    </tr>\n",
       "  </thead>\n",
       "  <tbody>\n",
       "    <tr>\n",
       "      <th>17841.0</th>\n",
       "      <td>6504</td>\n",
       "      <td>29176.25</td>\n",
       "    </tr>\n",
       "    <tr>\n",
       "      <th>14911.0</th>\n",
       "      <td>4042</td>\n",
       "      <td>76424.67</td>\n",
       "    </tr>\n",
       "    <tr>\n",
       "      <th>14096.0</th>\n",
       "      <td>3968</td>\n",
       "      <td>32949.41</td>\n",
       "    </tr>\n",
       "    <tr>\n",
       "      <th>12748.0</th>\n",
       "      <td>3634</td>\n",
       "      <td>18388.33</td>\n",
       "    </tr>\n",
       "    <tr>\n",
       "      <th>14606.0</th>\n",
       "      <td>2087</td>\n",
       "      <td>6845.35</td>\n",
       "    </tr>\n",
       "    <tr>\n",
       "      <th>15311.0</th>\n",
       "      <td>1631</td>\n",
       "      <td>14220.87</td>\n",
       "    </tr>\n",
       "    <tr>\n",
       "      <th>13263.0</th>\n",
       "      <td>1435</td>\n",
       "      <td>5970.94</td>\n",
       "    </tr>\n",
       "    <tr>\n",
       "      <th>13089.0</th>\n",
       "      <td>1397</td>\n",
       "      <td>32957.08</td>\n",
       "    </tr>\n",
       "    <tr>\n",
       "      <th>15039.0</th>\n",
       "      <td>1086</td>\n",
       "      <td>11738.60</td>\n",
       "    </tr>\n",
       "    <tr>\n",
       "      <th>18118.0</th>\n",
       "      <td>1054</td>\n",
       "      <td>3957.69</td>\n",
       "    </tr>\n",
       "  </tbody>\n",
       "</table>\n",
       "</div>"
      ],
      "text/plain": [
       "            Total_Order     Sales\n",
       "CustomerID                       \n",
       "17841.0            6504  29176.25\n",
       "14911.0            4042  76424.67\n",
       "14096.0            3968  32949.41\n",
       "12748.0            3634  18388.33\n",
       "14606.0            2087   6845.35\n",
       "15311.0            1631  14220.87\n",
       "13263.0            1435   5970.94\n",
       "13089.0            1397  32957.08\n",
       "15039.0            1086  11738.60\n",
       "18118.0            1054   3957.69"
      ]
     },
     "execution_count": 37,
     "metadata": {},
     "output_type": "execute_result"
    }
   ],
   "source": [
    "Customer_Order = new_df.groupby('CustomerID').agg({'InvoiceNo': ['nunique'],\n",
    "                                      'InvoiceNo': 'count', 'Sales':'sum'}).rename(columns={'InvoiceNo':'Total_Order'}).sort_values('Total_Order', ascending=False)[0:10]\n",
    "Customer_Order\n",
    "     "
   ]
  },
  {
   "cell_type": "code",
   "execution_count": 38,
   "id": "8de64bef-9255-41e5-903f-856280f94810",
   "metadata": {},
   "outputs": [
    {
     "data": {
      "image/png": "[encoded data removed]",
      "text/plain": [
       "<Figure size 1000x600 with 2 Axes>"
      ]
     },
     "metadata": {},
     "output_type": "display_data"
    }
   ],
   "source": [
    "# Define colors for the bars\n",
    "col1 = 'mediumorchid'\n",
    "col2 = 'lightsteelblue'\n",
    "\n",
    "# Create a new figure with a specific size\n",
    "plt.figure(figsize=(10, 6))\n",
    "\n",
    "# Plot Sales data on the primary y-axis\n",
    "ax = sns.barplot(x=Customer_Order.index, y=Customer_Order.Sales, data=Customer_Order, label='Sales', color = col1)\n",
    "width_scale = 0.5\n",
    "for bar in ax.containers[0]:\n",
    "    bar.set_width(bar.get_width() * width_scale)\n",
    "    ax.legend(bbox_to_anchor=(1.02, 1.05), loc='upper left', borderaxespad=0)\n",
    "\n",
    "# Create a secondary y-axis for Total Orders\n",
    "ax2 = ax.twinx()\n",
    "sns.barplot(x =Customer_Order.index, y = Customer_Order.Total_Order, data=Customer_Order, alpha=0.7, color = col2, label = 'Total Order', ax=ax2)\n",
    "\n",
    "# Adjust the width and position of Total Order bars\n",
    "for bar in ax2.containers[0]:\n",
    "    x = bar.get_x()\n",
    "    w = bar.get_width()\n",
    "    bar.set_x(x + w * (1- width_scale))\n",
    "    bar.set_width(w * width_scale)\n",
    "    ax2.legend(bbox_to_anchor=(1.02, 0.98), loc='upper left', borderaxespad=0)\n",
    "plt.show()"
   ]
  },
  {
   "cell_type": "markdown",
   "id": "28380374-499a-4295-abb7-78d3a79c7296",
   "metadata": {},
   "source": [
    "From the previous chart, we observed that **not all customers** with high transaction volumes also generate high sales revenue. In the following analysis, we will identify which customers rank in both the Top 10 for total orders and the Top 10 for sales revenue."
   ]
  },
  {
   "cell_type": "code",
   "execution_count": 39,
   "id": "2260e837-5f11-4e56-8b3e-27949e69e7de",
   "metadata": {},
   "outputs": [
    {
     "data": {
      "text/html": [
       "<div>\n",
       "<style scoped>\n",
       "    .dataframe tbody tr th:only-of-type {\n",
       "        vertical-align: middle;\n",
       "    }\n",
       "\n",
       "    .dataframe tbody tr th {\n",
       "        vertical-align: top;\n",
       "    }\n",
       "\n",
       "    .dataframe thead th {\n",
       "        text-align: right;\n",
       "    }\n",
       "</style>\n",
       "<table border=\"1\" class=\"dataframe\">\n",
       "  <thead>\n",
       "    <tr style=\"text-align: right;\">\n",
       "      <th></th>\n",
       "      <th>Total_Order</th>\n",
       "      <th>Sales_x</th>\n",
       "      <th>Sales_y</th>\n",
       "    </tr>\n",
       "    <tr>\n",
       "      <th>CustomerID</th>\n",
       "      <th></th>\n",
       "      <th></th>\n",
       "      <th></th>\n",
       "    </tr>\n",
       "  </thead>\n",
       "  <tbody>\n",
       "    <tr>\n",
       "      <th>17841.0</th>\n",
       "      <td>6504</td>\n",
       "      <td>29176.25</td>\n",
       "      <td>29176.25</td>\n",
       "    </tr>\n",
       "    <tr>\n",
       "      <th>14911.0</th>\n",
       "      <td>4042</td>\n",
       "      <td>76424.67</td>\n",
       "      <td>76424.67</td>\n",
       "    </tr>\n",
       "    <tr>\n",
       "      <th>14096.0</th>\n",
       "      <td>3968</td>\n",
       "      <td>32949.41</td>\n",
       "      <td>32949.41</td>\n",
       "    </tr>\n",
       "    <tr>\n",
       "      <th>12748.0</th>\n",
       "      <td>3634</td>\n",
       "      <td>18388.33</td>\n",
       "      <td>18388.33</td>\n",
       "    </tr>\n",
       "    <tr>\n",
       "      <th>15311.0</th>\n",
       "      <td>1631</td>\n",
       "      <td>14220.87</td>\n",
       "      <td>14220.87</td>\n",
       "    </tr>\n",
       "    <tr>\n",
       "      <th>13089.0</th>\n",
       "      <td>1397</td>\n",
       "      <td>32957.08</td>\n",
       "      <td>32957.08</td>\n",
       "    </tr>\n",
       "  </tbody>\n",
       "</table>\n",
       "</div>"
      ],
      "text/plain": [
       "            Total_Order   Sales_x   Sales_y\n",
       "CustomerID                                 \n",
       "17841.0            6504  29176.25  29176.25\n",
       "14911.0            4042  76424.67  76424.67\n",
       "14096.0            3968  32949.41  32949.41\n",
       "12748.0            3634  18388.33  18388.33\n",
       "15311.0            1631  14220.87  14220.87\n",
       "13089.0            1397  32957.08  32957.08"
      ]
     },
     "execution_count": 39,
     "metadata": {},
     "output_type": "execute_result"
    }
   ],
   "source": [
    "Order_Sales_Cust = Customer_Order.merge(Sales_Customer, left_index=True, right_index=True, how='inner')\n",
    "Order_Sales_Cust"
   ]
  },
  {
   "cell_type": "markdown",
   "id": "d7bccd13-cf53-48aa-ab1d-9299ec8c64ef",
   "metadata": {},
   "source": [
    "It's quite fascinating that there are **6 customers** who not only place the highest number of orders but also generate the most sales revenue.\n",
    "\n",
    "<br>\n",
    "\n",
    "Next, let's examine the **Average Revenue Per User (ARPU)** to understand the revenue we earn per transaction. ARPU is a **key metric** that measures the profitability of a product by calculating the average revenue generated from each user or subscriber."
   ]
  },
  {
   "cell_type": "code",
   "execution_count": 40,
   "id": "6af1bbd9-95ab-454d-a871-a84cc6344e7c",
   "metadata": {},
   "outputs": [
    {
     "name": "stdout",
     "output_type": "stream",
     "text": [
      "\n",
      "--------------------------------------------------\n",
      "\n",
      "       Total_Order         Sales         arpu\n",
      "count  4173.000000   4173.000000  4173.000000\n",
      "mean     72.650132    939.617012    16.633622\n",
      "std     180.921991   1997.793054    11.446925\n",
      "min       1.000000      1.900000     0.735217\n",
      "25%      13.000000    179.440000     9.553939\n",
      "50%      33.000000    425.770000    15.995000\n",
      "75%      80.000000   1050.270000    19.379038\n",
      "max    6504.000000  76424.670000   166.800000\n",
      "\n",
      "--------------------------------------------------\n",
      "\n"
     ]
    }
   ],
   "source": [
    "customer_arpu = new_df.groupby('CustomerID').agg({'InvoiceNo': ['nunique'],\n",
    "                                      'InvoiceNo': 'count', 'Sales':'sum'}).rename(columns={'InvoiceNo':'Total_Order'})\n",
    "\n",
    "# Calculating the Average Revenue Per User (ARPU) by dividing total sales by the total number of orders for each customer.\n",
    "customer_arpu['arpu'] = customer_arpu.Sales / customer_arpu.Total_Order\n",
    "\n",
    "print(\"\\n\" + \"-\"*50 + \"\\n\")\n",
    "\n",
    "print(customer_arpu.describe())\n",
    "\n",
    "print(\"\\n\" + \"-\"*50 + \"\\n\")"
   ]
  },
  {
   "cell_type": "code",
   "execution_count": 41,
   "id": "df0f3f8e-9a41-4b65-8dbf-33fe3db831ae",
   "metadata": {},
   "outputs": [
    {
     "name": "stdout",
     "output_type": "stream",
     "text": [
      "\n",
      "--------------------------------------------------\n",
      "\n",
      "            Total_Order  Sales        arpu\n",
      "CustomerID                                \n",
      "16716.0               1  166.8  166.800000\n",
      "16319.0               3  404.4  134.800000\n",
      "14434.0               8  964.8  120.600000\n",
      "15269.0               1  118.8  118.800000\n",
      "13147.0               2  237.6  118.800000\n",
      "13261.0               6  670.5  111.750000\n",
      "13763.0               2  218.4  109.200000\n",
      "12882.0               9  924.6  102.733333\n",
      "15619.0               1   99.6   99.600000\n",
      "13188.0               1   99.6   99.600000\n",
      "\n",
      "--------------------------------------------------\n",
      "\n"
     ]
    }
   ],
   "source": [
    "print(\"\\n\" + \"-\"*50 + \"\\n\")\n",
    "\n",
    "print(customer_arpu.sort_values('arpu', ascending=False)[0:10])\n",
    "\n",
    "print(\"\\n\" + \"-\"*50 + \"\\n\")"
   ]
  },
  {
   "cell_type": "markdown",
   "id": "1f0a56ed-1491-4843-b190-866cf9f1d418",
   "metadata": {},
   "source": [
    "It's quite intriguing. The top **10 ARPU customers** are those who make relatively few transactions or orders. Next, let's examine the ARPU for the top 10 customers based on their sales."
   ]
  },
  {
   "cell_type": "markdown",
   "id": "b5147f48-25f5-451c-8722-408cf986a441",
   "metadata": {},
   "source": [
    "## 6.1 Arpu TOP Customer\n",
    "-------------------------"
   ]
  },
  {
   "cell_type": "markdown",
   "id": "d896efd9-9eab-4942-8512-a698e4a32331",
   "metadata": {},
   "source": [
    "Now, we'll focus on identifying the top 10 customers based on their Average Revenue Per User (ARPU). By analyzing these top ARPU customers, we can gain insights into which customers generate the most revenue per transaction. This will help us understand the profitability of our highest-paying customers and their impact on overall sales."
   ]
  },
  {
   "cell_type": "code",
   "execution_count": 42,
   "id": "87e68a1a-5151-4e13-9118-3549672defed",
   "metadata": {},
   "outputs": [
    {
     "data": {
      "text/html": [
       "<div>\n",
       "<style scoped>\n",
       "    .dataframe tbody tr th:only-of-type {\n",
       "        vertical-align: middle;\n",
       "    }\n",
       "\n",
       "    .dataframe tbody tr th {\n",
       "        vertical-align: top;\n",
       "    }\n",
       "\n",
       "    .dataframe thead th {\n",
       "        text-align: right;\n",
       "    }\n",
       "</style>\n",
       "<table border=\"1\" class=\"dataframe\">\n",
       "  <thead>\n",
       "    <tr style=\"text-align: right;\">\n",
       "      <th></th>\n",
       "      <th>Total_Order</th>\n",
       "      <th>Sales</th>\n",
       "      <th>arpu</th>\n",
       "    </tr>\n",
       "    <tr>\n",
       "      <th>CustomerID</th>\n",
       "      <th></th>\n",
       "      <th></th>\n",
       "      <th></th>\n",
       "    </tr>\n",
       "  </thead>\n",
       "  <tbody>\n",
       "    <tr>\n",
       "      <th>14911.0</th>\n",
       "      <td>4042</td>\n",
       "      <td>76424.67</td>\n",
       "      <td>18.907637</td>\n",
       "    </tr>\n",
       "    <tr>\n",
       "      <th>13089.0</th>\n",
       "      <td>1397</td>\n",
       "      <td>32957.08</td>\n",
       "      <td>23.591324</td>\n",
       "    </tr>\n",
       "    <tr>\n",
       "      <th>14096.0</th>\n",
       "      <td>3968</td>\n",
       "      <td>32949.41</td>\n",
       "      <td>8.303783</td>\n",
       "    </tr>\n",
       "    <tr>\n",
       "      <th>17841.0</th>\n",
       "      <td>6504</td>\n",
       "      <td>29176.25</td>\n",
       "      <td>4.485893</td>\n",
       "    </tr>\n",
       "    <tr>\n",
       "      <th>14298.0</th>\n",
       "      <td>852</td>\n",
       "      <td>20823.48</td>\n",
       "      <td>24.440704</td>\n",
       "    </tr>\n",
       "    <tr>\n",
       "      <th>12748.0</th>\n",
       "      <td>3634</td>\n",
       "      <td>18388.33</td>\n",
       "      <td>5.060080</td>\n",
       "    </tr>\n",
       "    <tr>\n",
       "      <th>14156.0</th>\n",
       "      <td>765</td>\n",
       "      <td>17179.68</td>\n",
       "      <td>22.457098</td>\n",
       "    </tr>\n",
       "    <tr>\n",
       "      <th>13081.0</th>\n",
       "      <td>777</td>\n",
       "      <td>16012.81</td>\n",
       "      <td>20.608507</td>\n",
       "    </tr>\n",
       "    <tr>\n",
       "      <th>15311.0</th>\n",
       "      <td>1631</td>\n",
       "      <td>14220.87</td>\n",
       "      <td>8.719111</td>\n",
       "    </tr>\n",
       "    <tr>\n",
       "      <th>17675.0</th>\n",
       "      <td>542</td>\n",
       "      <td>13717.15</td>\n",
       "      <td>25.308395</td>\n",
       "    </tr>\n",
       "  </tbody>\n",
       "</table>\n",
       "</div>"
      ],
      "text/plain": [
       "            Total_Order     Sales       arpu\n",
       "CustomerID                                  \n",
       "14911.0            4042  76424.67  18.907637\n",
       "13089.0            1397  32957.08  23.591324\n",
       "14096.0            3968  32949.41   8.303783\n",
       "17841.0            6504  29176.25   4.485893\n",
       "14298.0             852  20823.48  24.440704\n",
       "12748.0            3634  18388.33   5.060080\n",
       "14156.0             765  17179.68  22.457098\n",
       "13081.0             777  16012.81  20.608507\n",
       "15311.0            1631  14220.87   8.719111\n",
       "17675.0             542  13717.15  25.308395"
      ]
     },
     "execution_count": 42,
     "metadata": {},
     "output_type": "execute_result"
    }
   ],
   "source": [
    "\n",
    "\n",
    "Top_Arpu = customer_arpu.sort_values('Sales', ascending=False)[0:10]\n",
    "Top_Arpu\n",
    "\n"
   ]
  },
  {
   "cell_type": "code",
   "execution_count": 43,
   "id": "374c0877-941c-4068-9518-672269b16348",
   "metadata": {},
   "outputs": [
    {
     "data": {
      "text/html": [
       "<div>\n",
       "<style scoped>\n",
       "    .dataframe tbody tr th:only-of-type {\n",
       "        vertical-align: middle;\n",
       "    }\n",
       "\n",
       "    .dataframe tbody tr th {\n",
       "        vertical-align: top;\n",
       "    }\n",
       "\n",
       "    .dataframe thead th {\n",
       "        text-align: right;\n",
       "    }\n",
       "</style>\n",
       "<table border=\"1\" class=\"dataframe\">\n",
       "  <thead>\n",
       "    <tr style=\"text-align: right;\">\n",
       "      <th></th>\n",
       "      <th>Total_Order</th>\n",
       "      <th>Sales</th>\n",
       "      <th>arpu</th>\n",
       "    </tr>\n",
       "  </thead>\n",
       "  <tbody>\n",
       "    <tr>\n",
       "      <th>count</th>\n",
       "      <td>10.000000</td>\n",
       "      <td>10.00000</td>\n",
       "      <td>10.000000</td>\n",
       "    </tr>\n",
       "    <tr>\n",
       "      <th>mean</th>\n",
       "      <td>2411.200000</td>\n",
       "      <td>27184.97300</td>\n",
       "      <td>16.188253</td>\n",
       "    </tr>\n",
       "    <tr>\n",
       "      <th>std</th>\n",
       "      <td>2007.549573</td>\n",
       "      <td>18818.67204</td>\n",
       "      <td>8.505240</td>\n",
       "    </tr>\n",
       "    <tr>\n",
       "      <th>min</th>\n",
       "      <td>542.000000</td>\n",
       "      <td>13717.15000</td>\n",
       "      <td>4.485893</td>\n",
       "    </tr>\n",
       "    <tr>\n",
       "      <th>25%</th>\n",
       "      <td>795.750000</td>\n",
       "      <td>16304.52750</td>\n",
       "      <td>8.407615</td>\n",
       "    </tr>\n",
       "    <tr>\n",
       "      <th>50%</th>\n",
       "      <td>1514.000000</td>\n",
       "      <td>19605.90500</td>\n",
       "      <td>19.758072</td>\n",
       "    </tr>\n",
       "    <tr>\n",
       "      <th>75%</th>\n",
       "      <td>3884.500000</td>\n",
       "      <td>32006.12000</td>\n",
       "      <td>23.307768</td>\n",
       "    </tr>\n",
       "    <tr>\n",
       "      <th>max</th>\n",
       "      <td>6504.000000</td>\n",
       "      <td>76424.67000</td>\n",
       "      <td>25.308395</td>\n",
       "    </tr>\n",
       "  </tbody>\n",
       "</table>\n",
       "</div>"
      ],
      "text/plain": [
       "       Total_Order        Sales       arpu\n",
       "count    10.000000     10.00000  10.000000\n",
       "mean   2411.200000  27184.97300  16.188253\n",
       "std    2007.549573  18818.67204   8.505240\n",
       "min     542.000000  13717.15000   4.485893\n",
       "25%     795.750000  16304.52750   8.407615\n",
       "50%    1514.000000  19605.90500  19.758072\n",
       "75%    3884.500000  32006.12000  23.307768\n",
       "max    6504.000000  76424.67000  25.308395"
      ]
     },
     "execution_count": 43,
     "metadata": {},
     "output_type": "execute_result"
    }
   ],
   "source": [
    "\n",
    "Top_Arpu.describe()\n"
   ]
  },
  {
   "cell_type": "markdown",
   "id": "5bcbc727-fa9e-4dcf-bd07-fd9cce8e8d39",
   "metadata": {},
   "source": [
    "<br>\n",
    "<br>\n",
    "\n",
    "Now, we will visualize the top **10 customers** with the **highest Average Revenue Per User (ARPU)**. The chart compares both the total sales and ARPU for these top customers."
   ]
  },
  {
   "cell_type": "code",
   "execution_count": 44,
   "id": "97ef3e1b-067c-48c2-bf73-71ef3d4545ff",
   "metadata": {},
   "outputs": [
    {
     "data": {
      "image/png": "[encoded data removed]",
      "text/plain": [
       "<Figure size 1000x600 with 2 Axes>"
      ]
     },
     "metadata": {},
     "output_type": "display_data"
    }
   ],
   "source": [
    "col1 = 'mediumorchid'\n",
    "col2 = 'lightsteelblue'\n",
    "\n",
    "plt.figure(figsize=(10, 6))\n",
    "ax = sns.barplot(x=Top_Arpu.index, y=Top_Arpu.Sales, data=Top_Arpu, label='Sales', color = col1)\n",
    "width_scale = 0.5\n",
    "for bar in ax.containers[0]:\n",
    "    bar.set_width(bar.get_width() * width_scale)\n",
    "    ax.legend(bbox_to_anchor=(1.02, 1.05), loc='upper left', borderaxespad=0)\n",
    "\n",
    "ax2 = ax.twinx()\n",
    "sns.barplot(x =Top_Arpu.index, y =Top_Arpu.arpu, data=Top_Arpu, alpha=0.7, color = col2, label = 'arpu', ax=ax2)\n",
    "for bar in ax2.containers[0]:\n",
    "    x = bar.get_x()\n",
    "    w = bar.get_width()\n",
    "    bar.set_x(x + w * (1- width_scale))\n",
    "    bar.set_width(w * width_scale)\n",
    "    ax2.legend(bbox_to_anchor=(1.02, 0.98), loc='upper left', borderaxespad=0)\n",
    "plt.show()"
   ]
  },
  {
   "cell_type": "markdown",
   "id": "32117bec-4ad5-4f41-98b4-9056a2a32861",
   "metadata": {},
   "source": [
    "The chart reveals a variation in ARPU relative to sales generated, indicating that a higher ARPU does not necessarily correspond to higher total sales. Additionally, it suggests that customers with higher ARPU among the top 10 tend to purchase more expensive items.\n",
    "\n",
    "<br>\n",
    "<br>"
   ]
  },
  {
   "cell_type": "markdown",
   "id": "aaffa4a4-302c-41d0-b524-0a9dc706481d",
   "metadata": {},
   "source": [
    "# **7.0 Customer Segmentation using RFM Analysis**\n",
    "-------------------------------------------------------"
   ]
  },
  {
   "cell_type": "markdown",
   "id": "8d41e83e-f7aa-416a-b6b1-7622452eb005",
   "metadata": {},
   "source": [
    "In this section, we will explore Customer Segmentation through `RFM (Recency, Frequency, and Monetary) analysis`. RFM analysis is a powerful marketing technique that helps businesses categorize their customers based on their transaction behaviors. By analyzing the recency, frequency, and monetary value of customer interactions, we can identify key customer segments and tailor marketing strategies accordingly.\n",
    "\n",
    "\n",
    "* **Recency** measures how recently a customer has made a purchase. This helps in identifying customers who are still actively engaged.\n",
    "* **Frequency** tracks how often a customer makes a purchase, indicating their loyalty and purchasing habits.\n",
    "* **Monetary** assesses how much money a customer spends, revealing their overall value to the business.\n",
    "\n",
    "\n",
    "By applying RFM analysis, businesses can segment customers into various groups, such as `high-value`, `medium-value`, and `low-value customers`. This segmentation allows for more targeted marketing efforts and better resource allocation, ultimately enhancing customer relationship management and driving sales growth."
   ]
  },
  {
   "cell_type": "code",
   "execution_count": 45,
   "id": "73287c05-1e3f-4583-9ca9-3675ca69db64",
   "metadata": {},
   "outputs": [
    {
     "data": {
      "text/html": [
       "<div>\n",
       "<style scoped>\n",
       "    .dataframe tbody tr th:only-of-type {\n",
       "        vertical-align: middle;\n",
       "    }\n",
       "\n",
       "    .dataframe tbody tr th {\n",
       "        vertical-align: top;\n",
       "    }\n",
       "\n",
       "    .dataframe thead th {\n",
       "        text-align: right;\n",
       "    }\n",
       "</style>\n",
       "<table border=\"1\" class=\"dataframe\">\n",
       "  <thead>\n",
       "    <tr style=\"text-align: right;\">\n",
       "      <th></th>\n",
       "      <th>InvoiceNo</th>\n",
       "      <th>StockCode</th>\n",
       "      <th>Description</th>\n",
       "      <th>Quantity</th>\n",
       "      <th>InvoiceDate</th>\n",
       "      <th>UnitPrice</th>\n",
       "      <th>CustomerID</th>\n",
       "      <th>Country</th>\n",
       "      <th>Date</th>\n",
       "      <th>Year</th>\n",
       "      <th>Month</th>\n",
       "      <th>Day</th>\n",
       "      <th>Hour</th>\n",
       "      <th>month_year</th>\n",
       "      <th>Sales</th>\n",
       "    </tr>\n",
       "  </thead>\n",
       "  <tbody>\n",
       "    <tr>\n",
       "      <th>1</th>\n",
       "      <td>536365</td>\n",
       "      <td>71053</td>\n",
       "      <td>WHITE METAL LANTERN</td>\n",
       "      <td>6</td>\n",
       "      <td>2010-12-01 08:26:00</td>\n",
       "      <td>3.39</td>\n",
       "      <td>17850.0</td>\n",
       "      <td>United Kingdom</td>\n",
       "      <td>2010-12-01</td>\n",
       "      <td>2010</td>\n",
       "      <td>Dec</td>\n",
       "      <td>Wednesday</td>\n",
       "      <td>8</td>\n",
       "      <td>2010-12</td>\n",
       "      <td>20.34</td>\n",
       "    </tr>\n",
       "    <tr>\n",
       "      <th>6</th>\n",
       "      <td>536365</td>\n",
       "      <td>21730</td>\n",
       "      <td>GLASS STAR FROSTED T-LIGHT HOLDER</td>\n",
       "      <td>6</td>\n",
       "      <td>2010-12-01 08:26:00</td>\n",
       "      <td>4.25</td>\n",
       "      <td>17850.0</td>\n",
       "      <td>United Kingdom</td>\n",
       "      <td>2010-12-01</td>\n",
       "      <td>2010</td>\n",
       "      <td>Dec</td>\n",
       "      <td>Wednesday</td>\n",
       "      <td>8</td>\n",
       "      <td>2010-12</td>\n",
       "      <td>25.50</td>\n",
       "    </tr>\n",
       "    <tr>\n",
       "      <th>7</th>\n",
       "      <td>536366</td>\n",
       "      <td>22633</td>\n",
       "      <td>HAND WARMER UNION JACK</td>\n",
       "      <td>6</td>\n",
       "      <td>2010-12-01 08:28:00</td>\n",
       "      <td>1.85</td>\n",
       "      <td>17850.0</td>\n",
       "      <td>United Kingdom</td>\n",
       "      <td>2010-12-01</td>\n",
       "      <td>2010</td>\n",
       "      <td>Dec</td>\n",
       "      <td>Wednesday</td>\n",
       "      <td>8</td>\n",
       "      <td>2010-12</td>\n",
       "      <td>11.10</td>\n",
       "    </tr>\n",
       "    <tr>\n",
       "      <th>8</th>\n",
       "      <td>536366</td>\n",
       "      <td>22632</td>\n",
       "      <td>HAND WARMER RED POLKA DOT</td>\n",
       "      <td>6</td>\n",
       "      <td>2010-12-01 08:28:00</td>\n",
       "      <td>1.85</td>\n",
       "      <td>17850.0</td>\n",
       "      <td>United Kingdom</td>\n",
       "      <td>2010-12-01</td>\n",
       "      <td>2010</td>\n",
       "      <td>Dec</td>\n",
       "      <td>Wednesday</td>\n",
       "      <td>8</td>\n",
       "      <td>2010-12</td>\n",
       "      <td>11.10</td>\n",
       "    </tr>\n",
       "    <tr>\n",
       "      <th>10</th>\n",
       "      <td>536367</td>\n",
       "      <td>22745</td>\n",
       "      <td>POPPY'S PLAYHOUSE BEDROOM</td>\n",
       "      <td>6</td>\n",
       "      <td>2010-12-01 08:34:00</td>\n",
       "      <td>2.10</td>\n",
       "      <td>13047.0</td>\n",
       "      <td>United Kingdom</td>\n",
       "      <td>2010-12-01</td>\n",
       "      <td>2010</td>\n",
       "      <td>Dec</td>\n",
       "      <td>Wednesday</td>\n",
       "      <td>8</td>\n",
       "      <td>2010-12</td>\n",
       "      <td>12.60</td>\n",
       "    </tr>\n",
       "  </tbody>\n",
       "</table>\n",
       "</div>"
      ],
      "text/plain": [
       "   InvoiceNo StockCode                        Description  Quantity  \\\n",
       "1     536365     71053                WHITE METAL LANTERN         6   \n",
       "6     536365     21730  GLASS STAR FROSTED T-LIGHT HOLDER         6   \n",
       "7     536366     22633             HAND WARMER UNION JACK         6   \n",
       "8     536366     22632          HAND WARMER RED POLKA DOT         6   \n",
       "10    536367     22745          POPPY'S PLAYHOUSE BEDROOM         6   \n",
       "\n",
       "           InvoiceDate  UnitPrice CustomerID         Country       Date  Year  \\\n",
       "1  2010-12-01 08:26:00       3.39    17850.0  United Kingdom 2010-12-01  2010   \n",
       "6  2010-12-01 08:26:00       4.25    17850.0  United Kingdom 2010-12-01  2010   \n",
       "7  2010-12-01 08:28:00       1.85    17850.0  United Kingdom 2010-12-01  2010   \n",
       "8  2010-12-01 08:28:00       1.85    17850.0  United Kingdom 2010-12-01  2010   \n",
       "10 2010-12-01 08:34:00       2.10    13047.0  United Kingdom 2010-12-01  2010   \n",
       "\n",
       "   Month        Day  Hour month_year  Sales  \n",
       "1    Dec  Wednesday     8    2010-12  20.34  \n",
       "6    Dec  Wednesday     8    2010-12  25.50  \n",
       "7    Dec  Wednesday     8    2010-12  11.10  \n",
       "8    Dec  Wednesday     8    2010-12  11.10  \n",
       "10   Dec  Wednesday     8    2010-12  12.60  "
      ]
     },
     "execution_count": 45,
     "metadata": {},
     "output_type": "execute_result"
    }
   ],
   "source": [
    "\n",
    "# import libraries\n",
    "import datetime as dt\n",
    "\n",
    "df_UK = new_df[new_df['Country'] == \"United Kingdom\"]\n",
    "df_UK.head()"
   ]
  },
  {
   "cell_type": "code",
   "execution_count": 46,
   "id": "0f60d3b4-f21b-4f3b-94a2-61d184627113",
   "metadata": {},
   "outputs": [
    {
     "data": {
      "text/plain": [
       "(272708, 4)"
      ]
     },
     "execution_count": 46,
     "metadata": {},
     "output_type": "execute_result"
    }
   ],
   "source": [
    "temp=['CustomerID', 'Quantity', 'InvoiceDate', 'Sales']\n",
    "RFM_data=df_UK[temp]\n",
    "RFM_data.shape"
   ]
  },
  {
   "cell_type": "code",
   "execution_count": 47,
   "id": "cf39f60c-6fc0-4bff-b875-1a6451664af7",
   "metadata": {},
   "outputs": [
    {
     "name": "stdout",
     "output_type": "stream",
     "text": [
      "2010-12-01 08:26:00\n",
      "2011-12-09 12:49:00\n"
     ]
    }
   ],
   "source": [
    "print(df_UK['InvoiceDate'].min())\n",
    "print(df_UK['InvoiceDate'].max())\n",
    "     "
   ]
  },
  {
   "cell_type": "markdown",
   "id": "a4c41531-7977-4c93-9aea-a71bec4e92ef",
   "metadata": {},
   "source": [
    "<br>\n",
    "<br>\n",
    "<br>\n",
    "\n",
    "Let's prepare the **RFM (Recency, Frequency, Monetary)** table for customer segmentation analysis:\n",
    "\n",
    "\n"
   ]
  },
  {
   "cell_type": "code",
   "execution_count": 48,
   "id": "a7c8489c-d132-495e-8da2-6c59fc000611",
   "metadata": {},
   "outputs": [
    {
     "data": {
      "text/html": [
       "<div>\n",
       "<style scoped>\n",
       "    .dataframe tbody tr th:only-of-type {\n",
       "        vertical-align: middle;\n",
       "    }\n",
       "\n",
       "    .dataframe tbody tr th {\n",
       "        vertical-align: top;\n",
       "    }\n",
       "\n",
       "    .dataframe thead th {\n",
       "        text-align: right;\n",
       "    }\n",
       "</style>\n",
       "<table border=\"1\" class=\"dataframe\">\n",
       "  <thead>\n",
       "    <tr style=\"text-align: right;\">\n",
       "      <th></th>\n",
       "      <th>recency</th>\n",
       "      <th>frequency</th>\n",
       "      <th>monetary_value</th>\n",
       "    </tr>\n",
       "    <tr>\n",
       "      <th>CustomerID</th>\n",
       "      <th></th>\n",
       "      <th></th>\n",
       "      <th></th>\n",
       "    </tr>\n",
       "  </thead>\n",
       "  <tbody>\n",
       "    <tr>\n",
       "      <th>12747.0</th>\n",
       "      <td>2</td>\n",
       "      <td>10</td>\n",
       "      <td>2029.71</td>\n",
       "    </tr>\n",
       "    <tr>\n",
       "      <th>12748.0</th>\n",
       "      <td>0</td>\n",
       "      <td>22</td>\n",
       "      <td>18388.33</td>\n",
       "    </tr>\n",
       "    <tr>\n",
       "      <th>12749.0</th>\n",
       "      <td>3</td>\n",
       "      <td>10</td>\n",
       "      <td>2600.53</td>\n",
       "    </tr>\n",
       "    <tr>\n",
       "      <th>12820.0</th>\n",
       "      <td>3</td>\n",
       "      <td>10</td>\n",
       "      <td>905.92</td>\n",
       "    </tr>\n",
       "    <tr>\n",
       "      <th>12821.0</th>\n",
       "      <td>214</td>\n",
       "      <td>3</td>\n",
       "      <td>75.72</td>\n",
       "    </tr>\n",
       "  </tbody>\n",
       "</table>\n",
       "</div>"
      ],
      "text/plain": [
       "            recency  frequency  monetary_value\n",
       "CustomerID                                    \n",
       "12747.0           2         10         2029.71\n",
       "12748.0           0         22        18388.33\n",
       "12749.0           3         10         2600.53\n",
       "12820.0           3         10          905.92\n",
       "12821.0         214          3           75.72"
      ]
     },
     "execution_count": 48,
     "metadata": {},
     "output_type": "execute_result"
    }
   ],
   "source": [
    "NOW = dt.datetime(2011,12,10)           # Define the reference date for recency calculations\n",
    "\n",
    "#Convert ORDERDATE to datetime format.\n",
    "RFM_data['InvoiceDate'] = pd.to_datetime(RFM_data['InvoiceDate'])\n",
    "\n",
    "# Calculate the RFM metrics for each customer\n",
    "RFM_table=RFM_data.groupby('CustomerID').agg({'InvoiceDate': lambda x: (NOW - x.max()).days,\n",
    "                                                'Quantity': lambda x: len(x.unique()), \n",
    "                                                'Sales': lambda x: x.sum()}) \n",
    "\n",
    "RFM_table['InvoiceDate'] = RFM_table['InvoiceDate'].astype(int)\n",
    "\n",
    "\n",
    "# Rename columns for clarity\n",
    "RFM_table.rename(columns={'InvoiceDate': 'recency', \n",
    "                         'Quantity': 'frequency',\n",
    "                         'Sales': 'monetary_value'}, inplace=True)\n",
    "\n",
    "\n",
    "RFM_table.head()           # Display the first few rows of the RFM table\n",
    "     "
   ]
  },
  {
   "cell_type": "markdown",
   "id": "fbbf77b1-be8f-4700-b770-bc99492ed5bb",
   "metadata": {},
   "source": [
    "#### Insights:\n",
    "\n",
    "\n",
    "* **Customer 12748.0:** Very recent transactions `(Recency = 0)`, high frequency `(22 transactions)`, and highest monetary value.\n",
    "* **Customer 12747.0:** Recent transactions `(Recency = 2)`, moderate frequency `(10 transactions)`, and substantial monetary value.\n",
    "* **Customer 12821.0:** Older transactions `(Recency = 214)`, low frequency `(3 transactions)`, and lower monetary value.\n",
    "\n",
    "<br>\n",
    "<br>"
   ]
  },
  {
   "cell_type": "code",
   "execution_count": 49,
   "id": "afc03ced-af05-4d12-93e7-3f58c36d8cd3",
   "metadata": {},
   "outputs": [
    {
     "data": {
      "text/html": [
       "<div>\n",
       "<style scoped>\n",
       "    .dataframe tbody tr th:only-of-type {\n",
       "        vertical-align: middle;\n",
       "    }\n",
       "\n",
       "    .dataframe tbody tr th {\n",
       "        vertical-align: top;\n",
       "    }\n",
       "\n",
       "    .dataframe thead th {\n",
       "        text-align: right;\n",
       "    }\n",
       "</style>\n",
       "<table border=\"1\" class=\"dataframe\">\n",
       "  <thead>\n",
       "    <tr style=\"text-align: right;\">\n",
       "      <th></th>\n",
       "      <th>recency</th>\n",
       "      <th>frequency</th>\n",
       "      <th>monetary_value</th>\n",
       "    </tr>\n",
       "  </thead>\n",
       "  <tbody>\n",
       "    <tr>\n",
       "      <th>0.25</th>\n",
       "      <td>17.0</td>\n",
       "      <td>5.0</td>\n",
       "      <td>172.23</td>\n",
       "    </tr>\n",
       "    <tr>\n",
       "      <th>0.50</th>\n",
       "      <td>50.0</td>\n",
       "      <td>7.0</td>\n",
       "      <td>409.91</td>\n",
       "    </tr>\n",
       "    <tr>\n",
       "      <th>0.75</th>\n",
       "      <td>143.5</td>\n",
       "      <td>10.0</td>\n",
       "      <td>1007.75</td>\n",
       "    </tr>\n",
       "  </tbody>\n",
       "</table>\n",
       "</div>"
      ],
      "text/plain": [
       "      recency  frequency  monetary_value\n",
       "0.25     17.0        5.0          172.23\n",
       "0.50     50.0        7.0          409.91\n",
       "0.75    143.5       10.0         1007.75"
      ]
     },
     "execution_count": 49,
     "metadata": {},
     "output_type": "execute_result"
    }
   ],
   "source": [
    "quantiles = RFM_table.quantile(q=[0.25,0.5,0.75])\n",
    "quantiles"
   ]
  },
  {
   "cell_type": "markdown",
   "id": "feacfdae-9129-40be-8ce5-9a52b11826ad",
   "metadata": {},
   "source": [
    "<br>\n",
    "<br>\n",
    "\n",
    "In this section, we perform **RFM (Recency, Frequency, Monetary)** segmentation to categorize customers based on their purchasing behavior. The goal is to classify customers into different segments to better target marketing efforts.\n"
   ]
  },
  {
   "cell_type": "code",
   "execution_count": 50,
   "id": "a0e7fce5-c54a-472b-8c02-516dee7d067b",
   "metadata": {},
   "outputs": [],
   "source": [
    "\n",
    "# Converting quantiles to a dictionary, easier to use.\n",
    "quantiles = quantiles.to_dict()\n",
    "\n",
    "##  RFM Segmentation ----\n",
    "RFM_Segment = RFM_table.copy()\n",
    "\n",
    "# Arguments (x = value, p = recency, monetary_value, frequency, k = quartiles dict)\n",
    "def R_Class(x,p,d):\n",
    "    if x <= d[p][0.25]:\n",
    "        return 4\n",
    "    elif x <= d[p][0.50]:\n",
    "        return 3\n",
    "    elif x <= d[p][0.75]: \n",
    "        return 2\n",
    "    else:\n",
    "        return 1\n",
    "    \n",
    "# Arguments (x = value, p = recency, monetary_value, frequency, k = quartiles dict)\n",
    "def FM_Class(x,p,d):\n",
    "    if x <= d[p][0.25]:\n",
    "        return 1\n",
    "    elif x <= d[p][0.50]:\n",
    "        return 2\n",
    "    elif x <= d[p][0.75]: \n",
    "        return 3\n",
    "    else:\n",
    "        return 4\n",
    "\n",
    "# Applying the classification functions to create quartile columns\n",
    "RFM_Segment['R_Quartile'] = RFM_Segment['recency'].apply(R_Class, args=('recency',quantiles,))\n",
    "RFM_Segment['F_Quartile'] = RFM_Segment['frequency'].apply(FM_Class, args=('frequency',quantiles,))\n",
    "RFM_Segment['M_Quartile'] = RFM_Segment['monetary_value'].apply(FM_Class, args=('monetary_value',quantiles,))\n",
    "\n",
    "# Combining the quartile columns to form the RFM class\n",
    "RFM_Segment['RFMClass'] = RFM_Segment.R_Quartile.map(str) \\\n",
    "                            + RFM_Segment.F_Quartile.map(str) \\\n",
    "                            + RFM_Segment.M_Quartile.map(str)\n"
   ]
  },
  {
   "cell_type": "markdown",
   "id": "182fd989-416f-4554-a2b8-f3af283e8fea",
   "metadata": {},
   "source": [
    "# **8.0 Who are the lost customers?**\n",
    "--------------------------------------"
   ]
  },
  {
   "cell_type": "markdown",
   "id": "67c4d1e6-bed5-443c-8ab3-f2d09a3dd62e",
   "metadata": {},
   "source": [
    "Now, we will identify customers who have been classified as `\"lost\"` based on their `RFM (Recency, Frequency, Monetary) scores`. These are customers whose recent activity, purchase frequency, and spending are all low. By focusing on the RFM class '111', which signifies low values across all three metrics, we can pinpoint the customers who are `least engaged` with the business. This analysis helps in understanding which customers have become inactive and may benefit from targeted re-engagement strategies."
   ]
  },
  {
   "cell_type": "code",
   "execution_count": 51,
   "id": "7abba436-d1ec-4b42-83ca-0a313ab1ac0f",
   "metadata": {},
   "outputs": [
    {
     "data": {
      "text/html": [
       "<div>\n",
       "<style scoped>\n",
       "    .dataframe tbody tr th:only-of-type {\n",
       "        vertical-align: middle;\n",
       "    }\n",
       "\n",
       "    .dataframe tbody tr th {\n",
       "        vertical-align: top;\n",
       "    }\n",
       "\n",
       "    .dataframe thead th {\n",
       "        text-align: right;\n",
       "    }\n",
       "</style>\n",
       "<table border=\"1\" class=\"dataframe\">\n",
       "  <thead>\n",
       "    <tr style=\"text-align: right;\">\n",
       "      <th></th>\n",
       "      <th>recency</th>\n",
       "      <th>frequency</th>\n",
       "      <th>monetary_value</th>\n",
       "      <th>R_Quartile</th>\n",
       "      <th>F_Quartile</th>\n",
       "      <th>M_Quartile</th>\n",
       "      <th>RFMClass</th>\n",
       "    </tr>\n",
       "    <tr>\n",
       "      <th>CustomerID</th>\n",
       "      <th></th>\n",
       "      <th></th>\n",
       "      <th></th>\n",
       "      <th></th>\n",
       "      <th></th>\n",
       "      <th></th>\n",
       "      <th></th>\n",
       "    </tr>\n",
       "  </thead>\n",
       "  <tbody>\n",
       "    <tr>\n",
       "      <th>18011.0</th>\n",
       "      <td>373</td>\n",
       "      <td>5</td>\n",
       "      <td>63.03</td>\n",
       "      <td>1</td>\n",
       "      <td>1</td>\n",
       "      <td>1</td>\n",
       "      <td>111</td>\n",
       "    </tr>\n",
       "    <tr>\n",
       "      <th>13065.0</th>\n",
       "      <td>373</td>\n",
       "      <td>5</td>\n",
       "      <td>120.71</td>\n",
       "      <td>1</td>\n",
       "      <td>1</td>\n",
       "      <td>1</td>\n",
       "      <td>111</td>\n",
       "    </tr>\n",
       "    <tr>\n",
       "      <th>14237.0</th>\n",
       "      <td>373</td>\n",
       "      <td>4</td>\n",
       "      <td>77.45</td>\n",
       "      <td>1</td>\n",
       "      <td>1</td>\n",
       "      <td>1</td>\n",
       "      <td>111</td>\n",
       "    </tr>\n",
       "    <tr>\n",
       "      <th>17643.0</th>\n",
       "      <td>373</td>\n",
       "      <td>3</td>\n",
       "      <td>58.80</td>\n",
       "      <td>1</td>\n",
       "      <td>1</td>\n",
       "      <td>1</td>\n",
       "      <td>111</td>\n",
       "    </tr>\n",
       "    <tr>\n",
       "      <th>15350.0</th>\n",
       "      <td>373</td>\n",
       "      <td>2</td>\n",
       "      <td>115.65</td>\n",
       "      <td>1</td>\n",
       "      <td>1</td>\n",
       "      <td>1</td>\n",
       "      <td>111</td>\n",
       "    </tr>\n",
       "  </tbody>\n",
       "</table>\n",
       "</div>"
      ],
      "text/plain": [
       "            recency  frequency  monetary_value  R_Quartile  F_Quartile  \\\n",
       "CustomerID                                                               \n",
       "18011.0         373          5           63.03           1           1   \n",
       "13065.0         373          5          120.71           1           1   \n",
       "14237.0         373          4           77.45           1           1   \n",
       "17643.0         373          3           58.80           1           1   \n",
       "15350.0         373          2          115.65           1           1   \n",
       "\n",
       "            M_Quartile RFMClass  \n",
       "CustomerID                       \n",
       "18011.0              1      111  \n",
       "13065.0              1      111  \n",
       "14237.0              1      111  \n",
       "17643.0              1      111  \n",
       "15350.0              1      111  "
      ]
     },
     "execution_count": 51,
     "metadata": {},
     "output_type": "execute_result"
    }
   ],
   "source": [
    "#Customers who's recency, frequency as well as monetary values are low \n",
    "\n",
    "RFM_Segment[RFM_Segment['RFMClass']=='111'].sort_values('recency',ascending=False).head(5)"
   ]
  },
  {
   "cell_type": "markdown",
   "id": "06e15e6e-177c-40cb-98dd-b247e98e5258",
   "metadata": {},
   "source": [
    "# **9.0 Who are loyal customers?**\n",
    "-------------------------------------"
   ]
  },
  {
   "cell_type": "markdown",
   "id": "cc19a63a-2fd6-4b68-ab3d-c14e4f356ea6",
   "metadata": {},
   "source": [
    "In this section, we focus on identifying **loyal customers** based on their `RFM (Recency, Frequency, Monetary) scores`, specifically looking at those with high frequency values. `Loyal customers` are characterized by their **frequent purchases**, which often indicates a strong and ongoing relationship with the business. By examining customers who fall into the higher quartiles for frequency, we can identify those who have demonstrated consistent purchasing behavior."
   ]
  },
  {
   "cell_type": "code",
   "execution_count": 52,
   "id": "03253181-e90b-4f40-8d15-2834ba6367a4",
   "metadata": {},
   "outputs": [
    {
     "data": {
      "text/html": [
       "<div>\n",
       "<style scoped>\n",
       "    .dataframe tbody tr th:only-of-type {\n",
       "        vertical-align: middle;\n",
       "    }\n",
       "\n",
       "    .dataframe tbody tr th {\n",
       "        vertical-align: top;\n",
       "    }\n",
       "\n",
       "    .dataframe thead th {\n",
       "        text-align: right;\n",
       "    }\n",
       "</style>\n",
       "<table border=\"1\" class=\"dataframe\">\n",
       "  <thead>\n",
       "    <tr style=\"text-align: right;\">\n",
       "      <th></th>\n",
       "      <th>recency</th>\n",
       "      <th>frequency</th>\n",
       "      <th>monetary_value</th>\n",
       "      <th>R_Quartile</th>\n",
       "      <th>F_Quartile</th>\n",
       "      <th>M_Quartile</th>\n",
       "      <th>RFMClass</th>\n",
       "    </tr>\n",
       "    <tr>\n",
       "      <th>CustomerID</th>\n",
       "      <th></th>\n",
       "      <th></th>\n",
       "      <th></th>\n",
       "      <th></th>\n",
       "      <th></th>\n",
       "      <th></th>\n",
       "      <th></th>\n",
       "    </tr>\n",
       "  </thead>\n",
       "  <tbody>\n",
       "    <tr>\n",
       "      <th>13089.0</th>\n",
       "      <td>4</td>\n",
       "      <td>15</td>\n",
       "      <td>32957.08</td>\n",
       "      <td>4</td>\n",
       "      <td>4</td>\n",
       "      <td>4</td>\n",
       "      <td>444</td>\n",
       "    </tr>\n",
       "    <tr>\n",
       "      <th>14096.0</th>\n",
       "      <td>4</td>\n",
       "      <td>26</td>\n",
       "      <td>32949.41</td>\n",
       "      <td>4</td>\n",
       "      <td>4</td>\n",
       "      <td>4</td>\n",
       "      <td>444</td>\n",
       "    </tr>\n",
       "    <tr>\n",
       "      <th>17841.0</th>\n",
       "      <td>1</td>\n",
       "      <td>25</td>\n",
       "      <td>29176.25</td>\n",
       "      <td>4</td>\n",
       "      <td>4</td>\n",
       "      <td>4</td>\n",
       "      <td>444</td>\n",
       "    </tr>\n",
       "    <tr>\n",
       "      <th>14298.0</th>\n",
       "      <td>8</td>\n",
       "      <td>12</td>\n",
       "      <td>20823.48</td>\n",
       "      <td>4</td>\n",
       "      <td>4</td>\n",
       "      <td>4</td>\n",
       "      <td>444</td>\n",
       "    </tr>\n",
       "    <tr>\n",
       "      <th>12748.0</th>\n",
       "      <td>0</td>\n",
       "      <td>22</td>\n",
       "      <td>18388.33</td>\n",
       "      <td>4</td>\n",
       "      <td>4</td>\n",
       "      <td>4</td>\n",
       "      <td>444</td>\n",
       "    </tr>\n",
       "  </tbody>\n",
       "</table>\n",
       "</div>"
      ],
      "text/plain": [
       "            recency  frequency  monetary_value  R_Quartile  F_Quartile  \\\n",
       "CustomerID                                                               \n",
       "13089.0           4         15        32957.08           4           4   \n",
       "14096.0           4         26        32949.41           4           4   \n",
       "17841.0           1         25        29176.25           4           4   \n",
       "14298.0           8         12        20823.48           4           4   \n",
       "12748.0           0         22        18388.33           4           4   \n",
       "\n",
       "            M_Quartile RFMClass  \n",
       "CustomerID                       \n",
       "13089.0              4      444  \n",
       "14096.0              4      444  \n",
       "17841.0              4      444  \n",
       "14298.0              4      444  \n",
       "12748.0              4      444  "
      ]
     },
     "execution_count": 52,
     "metadata": {},
     "output_type": "execute_result"
    }
   ],
   "source": [
    "#Customers with high frequency value\n",
    "\n",
    "RFM_Segment[RFM_Segment['F_Quartile'] >= 3 ].sort_values('monetary_value', ascending=False).head(5)"
   ]
  },
  {
   "cell_type": "markdown",
   "id": "f0e4492d-25aa-4d18-a2f8-7238bf858cee",
   "metadata": {},
   "source": [
    "<br>\n",
    "<br>\n",
    "\n",
    "Now, let's count the number of **unique RFM segments** to understand the diversity of customer profiles based on their `recency`, `frequency`, and `monetary values`. This will provide insight into how many distinct customer segments exist within the dataset."
   ]
  },
  {
   "cell_type": "code",
   "execution_count": 53,
   "id": "03fd73ca-78ed-4937-b166-77abcc35cf4e",
   "metadata": {},
   "outputs": [
    {
     "name": "stdout",
     "output_type": "stream",
     "text": [
      "63\n",
      "CustomerID\n",
      "12747.0    11\n",
      "12748.0    12\n",
      "12749.0    11\n",
      "12820.0    10\n",
      "12821.0     3\n",
      "Name: RFM_Score, dtype: int64\n"
     ]
    }
   ],
   "source": [
    "\n",
    "# Count num of unique segments\n",
    "RFM_count_unique = RFM_Segment.groupby('RFMClass')['RFMClass'].nunique()\n",
    "print(RFM_count_unique.sum())\n",
    "\n",
    "# Calculate RFM_Score\n",
    "RFM_Segment['RFM_Score'] = RFM_Segment[['R_Quartile','F_Quartile','M_Quartile']].sum(axis=1)\n",
    "print(RFM_Segment['RFM_Score'].head())\n"
   ]
  },
  {
   "cell_type": "markdown",
   "id": "c9af8a06-96b0-4cfb-919e-83ec4dcf6b75",
   "metadata": {},
   "source": [
    "# **10.0 Defining Customer Segments with RFM Levels**\n",
    "------------------------------------------------------\n"
   ]
  },
  {
   "cell_type": "code",
   "execution_count": 54,
   "id": "31663845-7e2c-40a9-b145-bd458b9e0509",
   "metadata": {},
   "outputs": [
    {
     "data": {
      "text/html": [
       "<div>\n",
       "<style scoped>\n",
       "    .dataframe tbody tr th:only-of-type {\n",
       "        vertical-align: middle;\n",
       "    }\n",
       "\n",
       "    .dataframe tbody tr th {\n",
       "        vertical-align: top;\n",
       "    }\n",
       "\n",
       "    .dataframe thead th {\n",
       "        text-align: right;\n",
       "    }\n",
       "</style>\n",
       "<table border=\"1\" class=\"dataframe\">\n",
       "  <thead>\n",
       "    <tr style=\"text-align: right;\">\n",
       "      <th></th>\n",
       "      <th>recency</th>\n",
       "      <th>frequency</th>\n",
       "      <th>monetary_value</th>\n",
       "      <th>R_Quartile</th>\n",
       "      <th>F_Quartile</th>\n",
       "      <th>M_Quartile</th>\n",
       "      <th>RFMClass</th>\n",
       "      <th>RFM_Score</th>\n",
       "      <th>RFM_Level</th>\n",
       "    </tr>\n",
       "    <tr>\n",
       "      <th>CustomerID</th>\n",
       "      <th></th>\n",
       "      <th></th>\n",
       "      <th></th>\n",
       "      <th></th>\n",
       "      <th></th>\n",
       "      <th></th>\n",
       "      <th></th>\n",
       "      <th></th>\n",
       "      <th></th>\n",
       "    </tr>\n",
       "  </thead>\n",
       "  <tbody>\n",
       "    <tr>\n",
       "      <th>12747.0</th>\n",
       "      <td>2</td>\n",
       "      <td>10</td>\n",
       "      <td>2029.71</td>\n",
       "      <td>4</td>\n",
       "      <td>3</td>\n",
       "      <td>4</td>\n",
       "      <td>434</td>\n",
       "      <td>11</td>\n",
       "      <td>Can't Loose Them</td>\n",
       "    </tr>\n",
       "    <tr>\n",
       "      <th>12748.0</th>\n",
       "      <td>0</td>\n",
       "      <td>22</td>\n",
       "      <td>18388.33</td>\n",
       "      <td>4</td>\n",
       "      <td>4</td>\n",
       "      <td>4</td>\n",
       "      <td>444</td>\n",
       "      <td>12</td>\n",
       "      <td>Can't Loose Them</td>\n",
       "    </tr>\n",
       "    <tr>\n",
       "      <th>12749.0</th>\n",
       "      <td>3</td>\n",
       "      <td>10</td>\n",
       "      <td>2600.53</td>\n",
       "      <td>4</td>\n",
       "      <td>3</td>\n",
       "      <td>4</td>\n",
       "      <td>434</td>\n",
       "      <td>11</td>\n",
       "      <td>Can't Loose Them</td>\n",
       "    </tr>\n",
       "    <tr>\n",
       "      <th>12820.0</th>\n",
       "      <td>3</td>\n",
       "      <td>10</td>\n",
       "      <td>905.92</td>\n",
       "      <td>4</td>\n",
       "      <td>3</td>\n",
       "      <td>3</td>\n",
       "      <td>433</td>\n",
       "      <td>10</td>\n",
       "      <td>Can't Loose Them</td>\n",
       "    </tr>\n",
       "    <tr>\n",
       "      <th>12821.0</th>\n",
       "      <td>214</td>\n",
       "      <td>3</td>\n",
       "      <td>75.72</td>\n",
       "      <td>1</td>\n",
       "      <td>1</td>\n",
       "      <td>1</td>\n",
       "      <td>111</td>\n",
       "      <td>3</td>\n",
       "      <td>Demands Activation</td>\n",
       "    </tr>\n",
       "    <tr>\n",
       "      <th>12822.0</th>\n",
       "      <td>70</td>\n",
       "      <td>8</td>\n",
       "      <td>743.28</td>\n",
       "      <td>2</td>\n",
       "      <td>3</td>\n",
       "      <td>3</td>\n",
       "      <td>233</td>\n",
       "      <td>8</td>\n",
       "      <td>Champions</td>\n",
       "    </tr>\n",
       "    <tr>\n",
       "      <th>12824.0</th>\n",
       "      <td>59</td>\n",
       "      <td>4</td>\n",
       "      <td>306.22</td>\n",
       "      <td>2</td>\n",
       "      <td>1</td>\n",
       "      <td>2</td>\n",
       "      <td>212</td>\n",
       "      <td>5</td>\n",
       "      <td>Promising</td>\n",
       "    </tr>\n",
       "    <tr>\n",
       "      <th>12826.0</th>\n",
       "      <td>2</td>\n",
       "      <td>9</td>\n",
       "      <td>1367.80</td>\n",
       "      <td>4</td>\n",
       "      <td>3</td>\n",
       "      <td>4</td>\n",
       "      <td>434</td>\n",
       "      <td>11</td>\n",
       "      <td>Can't Loose Them</td>\n",
       "    </tr>\n",
       "    <tr>\n",
       "      <th>12827.0</th>\n",
       "      <td>5</td>\n",
       "      <td>5</td>\n",
       "      <td>375.05</td>\n",
       "      <td>4</td>\n",
       "      <td>1</td>\n",
       "      <td>2</td>\n",
       "      <td>412</td>\n",
       "      <td>7</td>\n",
       "      <td>Loyal/Commited</td>\n",
       "    </tr>\n",
       "    <tr>\n",
       "      <th>12828.0</th>\n",
       "      <td>2</td>\n",
       "      <td>11</td>\n",
       "      <td>874.36</td>\n",
       "      <td>4</td>\n",
       "      <td>4</td>\n",
       "      <td>3</td>\n",
       "      <td>443</td>\n",
       "      <td>11</td>\n",
       "      <td>Can't Loose Them</td>\n",
       "    </tr>\n",
       "  </tbody>\n",
       "</table>\n",
       "</div>"
      ],
      "text/plain": [
       "            recency  frequency  monetary_value  R_Quartile  F_Quartile  \\\n",
       "CustomerID                                                               \n",
       "12747.0           2         10         2029.71           4           3   \n",
       "12748.0           0         22        18388.33           4           4   \n",
       "12749.0           3         10         2600.53           4           3   \n",
       "12820.0           3         10          905.92           4           3   \n",
       "12821.0         214          3           75.72           1           1   \n",
       "12822.0          70          8          743.28           2           3   \n",
       "12824.0          59          4          306.22           2           1   \n",
       "12826.0           2          9         1367.80           4           3   \n",
       "12827.0           5          5          375.05           4           1   \n",
       "12828.0           2         11          874.36           4           4   \n",
       "\n",
       "            M_Quartile RFMClass  RFM_Score           RFM_Level  \n",
       "CustomerID                                                      \n",
       "12747.0              4      434         11    Can't Loose Them  \n",
       "12748.0              4      444         12    Can't Loose Them  \n",
       "12749.0              4      434         11    Can't Loose Them  \n",
       "12820.0              3      433         10    Can't Loose Them  \n",
       "12821.0              1      111          3  Demands Activation  \n",
       "12822.0              3      233          8           Champions  \n",
       "12824.0              2      212          5           Promising  \n",
       "12826.0              4      434         11    Can't Loose Them  \n",
       "12827.0              2      412          7      Loyal/Commited  \n",
       "12828.0              3      443         11    Can't Loose Them  "
      ]
     },
     "execution_count": 54,
     "metadata": {},
     "output_type": "execute_result"
    }
   ],
   "source": [
    "\n",
    "# Define FMCG_rfm_level function\n",
    "def rfm_level(df):\n",
    "    if df['RFM_Score'] >= 9:\n",
    "        return 'Can\\'t Loose Them'\n",
    "    elif ((df['RFM_Score'] >= 8) and (df['RFM_Score'] < 9)):\n",
    "        return 'Champions'\n",
    "    elif ((df['RFM_Score'] >= 7) and (df['RFM_Score'] < 8)):\n",
    "        return 'Loyal/Commited'\n",
    "    elif ((df['RFM_Score'] >= 6) and (df['RFM_Score'] < 7)):\n",
    "        return 'Potential'\n",
    "    elif ((df['RFM_Score'] >= 5) and (df['RFM_Score'] < 6)):\n",
    "        return 'Promising'\n",
    "    elif ((df['RFM_Score'] >= 4) and (df['RFM_Score'] < 5)):\n",
    "        return 'Requires Attention'\n",
    "    else:\n",
    "        return 'Demands Activation'\n",
    "        \n",
    "# Create a new variable RFM_Level\n",
    "RFM_Segment['RFM_Level'] = RFM_Segment.apply(rfm_level, axis=1)\n",
    "\n",
    "# Printing the header with top 15 rows \n",
    "RFM_Segment.head(10)\n"
   ]
  },
  {
   "cell_type": "markdown",
   "id": "12373e7f-7919-4e71-b401-f6ffda5eeecd",
   "metadata": {},
   "source": [
    "## **10.1 Insights from Customer Segmentation**\n",
    "---------------------------------------------------\n",
    "\n",
    "This segmentation allows for targeted marketing strategies by identifying customers who are the most valuable and engaged, as well as those who may need additional incentives to increase their value to the business.\n",
    "\n",
    "1. **Top-Performing Customers:**\n",
    "\n",
    "    Customers with high RFM scores (e.g., `CustomerIDs 12748.0`, `12747.0`, and `12826.0`) are classified as **\"Can't Lose Them.\"** These customers have a high recency, frequency, and monetary value, indicating that they are highly engaged and generate significant revenue. Retaining these customers should be a `top priority`, and personalized marketing strategies or loyalty programs could be beneficial to maintain their high level of engagement.\n",
    "\n",
    "  \n",
    "2. **Champions:**\n",
    "\n",
    "    The customer with `CustomerID 12822.0` falls into the **\"Champions\"** category. These customers have high frequency and monetary values but slightly lower recency scores compared to the `\"Can't Lose Them\"` group. They are valuable customers but may need strategies to keep them engaged more consistently.\n",
    "\n",
    "3. **Promising and Loyal Customers:**\n",
    "\n",
    "    Customers such as `12824.0 (Promising)` and `12827.0 (Loyal/Committed)` have decent frequency and monetary values but lower recency scores. This suggests that while these customers engage and spend a good amount, their recent activity is `less frequent`. **Special promotions or re-engagement campaigns** could help improve their recency scores and potentially move them into the higher-value segments.\n",
    "\n",
    "  \n",
    "4. **At-Risk Customers:**\n",
    "\n",
    "    Customers with low RFM scores, such as `CustomerID 12821.0 (Demands Activation)`, show low values across recency, frequency, and monetary metrics. These customers have not engaged recently and have `minimal transactions and spending`. Strategies for **reactivation or targeted offer**s could help recover these customers or at least understand why their engagement has declined.\n",
    "\n",
    "  \n",
    "5. **Revenue Insights:**\n",
    "\n",
    "    The high monetary value of some customers (e.g., `CustomerIDs 12748.0` and `12749.0`) emphasizes the importance of focusing on `high-spending customers` for maximizing revenue. Analyzing the purchasing patterns of these customers can provide insights into which products or services drive their high spending.\n",
    "\n",
    "  \n",
    "6. **Customer Segmentation Strategy:**\n",
    "\n",
    "    The segmentation into distinct RFM levels provides actionable insights for different customer groups. `Tailoring marketing efforts based on these segments` can optimize resource allocation and enhance customer satisfaction and loyalty. For example, creating **exclusive offers** for the \"Can't Lose Them\" group and special incentives for \"Loyal/Committed\" customers can improve overall engagement and sales.\n",
    "\n",
    "\n",
    "By leveraging these insights, businesses can develop targeted marketing strategies to enhance customer relationships, optimize spending, and improve overall business performance.\n",
    "\n",
    "\n"
   ]
  },
  {
   "cell_type": "markdown",
   "id": "f8cdd17f-fd07-4274-83ad-d98a08fef1dc",
   "metadata": {},
   "source": [
    "# **11.0 Analyzing RFM Segments**\n",
    "--------------------------------------"
   ]
  },
  {
   "cell_type": "markdown",
   "id": "43e96df9-60de-4d6e-ae7e-601fc15288c1",
   "metadata": {},
   "source": [
    "\n",
    "Calculate the average values for each **RFM_Level** and determine the size of each segment.\n",
    "\n"
   ]
  },
  {
   "cell_type": "code",
   "execution_count": 55,
   "id": "cf06e659-3273-420c-be09-d7488514c3eb",
   "metadata": {},
   "outputs": [
    {
     "name": "stdout",
     "output_type": "stream",
     "text": [
      "                   recency frequency monetary_value      \n",
      "                      mean      mean           mean count\n",
      "RFM_Level                                                \n",
      "Can't Loose Them      25.7      11.0         1869.0  1420\n",
      "Champions             66.2       8.1          598.4   358\n",
      "Demands Activation   257.8       3.0           87.1   373\n",
      "Loyal/Commited        80.1       6.8          457.7   401\n",
      "Potential             98.5       5.7          290.2   408\n",
      "Promising            123.1       4.8          219.1   429\n",
      "Requires Attention   169.1       4.0          148.1   378\n"
     ]
    }
   ],
   "source": [
    "rfm_level_agg = RFM_Segment.groupby('RFM_Level').agg({\n",
    "    'recency': 'mean',\n",
    "    'frequency': 'mean',\n",
    "    'monetary_value': ['mean', 'count']\n",
    "}).round(1)\n",
    "\n",
    "# Print the aggregated dataset\n",
    "print(rfm_level_agg)"
   ]
  },
  {
   "cell_type": "markdown",
   "id": "fd4927c7-1d45-49ca-96e2-aeee0fbacb69",
   "metadata": {},
   "source": [
    "---------------------------------------------------\n",
    "## **10.1 Insights from RFM Segmentation Analysis**\n",
    "---------------------------------------------------\n",
    "\n",
    "This segmentation allows for targeted marketing strategies by identifying customers who are the most valuable and engaged, as well as those who may need additional incentives to increase their value to the business.\n",
    "\n",
    "1. **High-Value Customers:**\n",
    "\n",
    "   - **Can't Loose** Them segment is the most valuable, with the highest average 1monetary value of $18691. They also have the `lowest recency (25.7 days)` and `high frequency (11.0)`. This indicates they are frequent, recent, and high-spending customers, representing **1420 individuals**.\n",
    "<br>\n",
    "\n",
    "2. **Top-Performing Segments:**\n",
    "\n",
    "    - **Champions** have a decent average `monetary value ($598.4)` and relatively `high recency (66.2 days)` and `frequency (8.1)`. This segment comprises **358 customers** and, while not as valuable as the \"Can't Loose Them\" segment, they are still strong performers.\n",
    "\n",
    "<br>\n",
    "\n",
    "3. **Low-Engagement Segments:**\n",
    "\n",
    "    - **Demands Activation** has the `highest recency (257.8 days)` and `lowest frequency (3.0)`, along with the lowest average `monetary value ($87.1)`. With **373 customers**, this segment is less engaged and less profitable.\n",
    "\n",
    "<br>\n",
    "\n",
    "4. **Moderate Performers**\n",
    "\n",
    "   -  **Loyal/Committed and Potential** segments show moderate average monetary values (`$457.7` and `$290.2`, respectively) and `frequency rates (6.8 and 5.7)`. They have higher recency compared to the \"Can't Loose Them\" segment but are still significant in terms of revenue and engagement, with **401 and 408 customers** respectively.\n",
    "\n",
    "<br>\n",
    "  \n",
    "5. **Lower Value and Engagement:**\n",
    "\n",
    "    - **Promising and Requires Attention** segments have lower average monetary values (`$219.1` and `$148.1`, respectively) and frequencies (`4.8 and 4.0`). Their recency is also higher, indicating these customers are less frequent and less recent, with **429 and 378 individuals** in these segments.\n",
    "\n",
    "<br>\n",
    "  \n",
    "\n",
    "\n",
    "\n"
   ]
  },
  {
   "cell_type": "markdown",
   "id": "2b377a0a-dbb9-4af7-91e1-5fb660f11779",
   "metadata": {},
   "source": [
    "# ------------------------------------END----------------------------------------------"
   ]
  }
 ],
 "metadata": {
  "kernelspec": {
   "display_name": "Python 3 (ipykernel)",
   "language": "python",
   "name": "python3"
  },
  "language_info": {
   "codemirror_mode": {
    "name": "ipython",
    "version": 3
   },
   "file_extension": ".py",
   "mimetype": "text/x-python",
   "name": "python",
   "nbconvert_exporter": "python",
   "pygments_lexer": "ipython3",
   "version": "3.12.4"
  }
 },
 "nbformat": 4,
 "nbformat_minor": 5
}
